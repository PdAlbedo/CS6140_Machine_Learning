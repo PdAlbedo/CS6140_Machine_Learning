{
 "cells": [
  {
   "cell_type": "markdown",
   "id": "c50742cc",
   "metadata": {
    "id": "c50742cc"
   },
   "source": [
    "# CS6140 Machine Learning: Assignment 4 (F22) (Total Points: 100)\n",
    "## Prof. Ahmad Uzair\n"
   ]
  },
  {
   "cell_type": "markdown",
   "source": [
    "## 2. PCA understanding [10 pts]"
   ],
   "metadata": {
    "id": "X_u550vmG2Fx"
   },
   "id": "X_u550vmG2Fx"
  },
  {
   "cell_type": "markdown",
   "id": "dda9cf90",
   "metadata": {
    "id": "dda9cf90"
   },
   "source": [
    "#### 1. Write your understanding of PCA."
   ]
  },
  {
   "cell_type": "markdown",
   "source": [
    "PCA reduces the dimensionality of a data set by identifying the most important exes of variation and using only the most important. Since some features are unhelpful to build the model and make predictions, PCA can project data onto primary axis, which, in many cases, projects the data from higher dimension space to lower dimension space by linear combination based on the original features."
   ],
   "metadata": {
    "collapsed": false
   }
  },
  {
   "cell_type": "markdown",
   "id": "cc668c68",
   "metadata": {
    "id": "cc668c68"
   },
   "source": [
    "#### 2. Why is it needed?"
   ]
  },
  {
   "cell_type": "markdown",
   "source": [
    "PCA helps us to find the important patterns, and it can simplify the complexity in higher dimension space while retaining trends and patterns, which compress the data and retain most of the information. And this helps us to understand the data. In the reduced dimension space, we can observe the trends, jumps, clusters, and outliers efficiently, and uncover the relationships between observations and variables. This can solve the collinearity by decorating the features, which by reducing the influence of some features to observe the true relationships between the features and observations."
   ],
   "metadata": {
    "collapsed": false
   }
  },
  {
   "cell_type": "markdown",
   "id": "bd325edb",
   "metadata": {
    "id": "bd325edb"
   },
   "source": [
    "#### 3. How does it works?"
   ]
  },
  {
   "cell_type": "markdown",
   "source": [
    "First, we decompose the correlation matrix and get the eigenvalues and eigenvectors. Then we use the eigenvectors to transform the input data. Based on the eigenvalues, we select the most important or most explanatory components, and discard some of the components that are not much explanatory."
   ],
   "metadata": {
    "collapsed": false
   }
  },
  {
   "cell_type": "markdown",
   "id": "ba91e809",
   "metadata": {
    "id": "ba91e809"
   },
   "source": [
    "#### 4. How does it helps ?"
   ]
  },
  {
   "cell_type": "markdown",
   "source": [
    "PCA reduces data by geometrically projecting them onto lower dimensions called principal components, with the goal of finding the best summary of the data using a limited number of PCs. The PC(s) are chosen to minimize the total distance between the data and their projection onto the PC. By minimizing this distance, we also maximize the variance of the projected points. In this case we can increase interpretability but at the same time minimizing information loss."
   ],
   "metadata": {
    "collapsed": false
   }
  },
  {
   "cell_type": "markdown",
   "id": "ad36cfdf",
   "metadata": {
    "id": "ad36cfdf"
   },
   "source": [
    "#### 5. Think of and give an example scenario where it is useful and can be used."
   ]
  },
  {
   "cell_type": "markdown",
   "source": [
    "Assume we have a dataset that the features are strongly correlated, in this case, we need to apply PCA to the dataset. For instance, there is a dataset describes the expenditure of different customers in a mall. The dataset may contain their ages, incomes, living regions, credit card limits, etc. There might be some relationships between the features, so we do not know which feature affect the expenditure the most, like maybe both income and credit card limit have a positive relationship with the amount of expenditure, and we need to know the importance of different features. That's the reason why we use PCA."
   ],
   "metadata": {
    "collapsed": false
   }
  },
  {
   "cell_type": "markdown",
   "id": "50e897b2",
   "metadata": {
    "id": "50e897b2"
   },
   "source": [
    "## 2. Coding Exercise [30 pts]"
   ]
  },
  {
   "cell_type": "code",
   "execution_count": 82,
   "outputs": [],
   "source": [
    "import time\n",
    "import numpy as np\n",
    "import pandas as pd\n",
    "\n",
    "from sklearn.decomposition import PCA\n",
    "from sklearn.preprocessing import LabelEncoder\n",
    "from sklearn.linear_model import LinearRegression"
   ],
   "metadata": {
    "collapsed": false
   }
  },
  {
   "cell_type": "markdown",
   "id": "157f20f6",
   "metadata": {
    "id": "157f20f6"
   },
   "source": [
    "** Note : Read The Whole Question For Better Understanding Of The Demand Of The Exercise.**\n",
    "\n",
    "Read the given csv file ('airbnb.csv')\n",
    "\n",
    "### 1. [Feature elimination] : Carefully look and understand the nature of the data, remove potentially unnecessary/less useful features. [2 pts]\n",
    "\n",
    "[Hint: After elimination you should be left with 8-10 features]\n",
    "\n"
   ]
  },
  {
   "cell_type": "code",
   "source": [
    "airbnb_data = pd.read_csv('airbnb.csv')\n",
    "print('Shape of dateset: ', airbnb_data.shape)\n",
    "airbnb_data"
   ],
   "metadata": {
    "id": "Jy8dqIpVHOMd"
   },
   "id": "Jy8dqIpVHOMd",
   "execution_count": 83,
   "outputs": [
    {
     "name": "stdout",
     "output_type": "stream",
     "text": [
      "Shape of dateset:  (48895, 16)\n"
     ]
    },
    {
     "data": {
      "text/plain": "             id                                               name   host_id  \\\n0          2539                 Clean & quiet apt home by the park      2787   \n1          2595                              Skylit Midtown Castle      2845   \n2          3647                THE VILLAGE OF HARLEM....NEW YORK !      4632   \n3          3831                    Cozy Entire Floor of Brownstone      4869   \n4          5022   Entire Apt: Spacious Studio/Loft by central park      7192   \n...         ...                                                ...       ...   \n48890  36484665    Charming one bedroom - newly renovated rowhouse   8232441   \n48891  36485057      Affordable room in Bushwick/East Williamsburg   6570630   \n48892  36485431            Sunny Studio at Historical Neighborhood  23492952   \n48893  36485609               43rd St. Time Square-cozy single bed  30985759   \n48894  36487245  Trendy duplex in the very heart of Hell's Kitchen  68119814   \n\n           host_name neighbourhood_group       neighbourhood  latitude  \\\n0               John            Brooklyn          Kensington  40.64749   \n1           Jennifer           Manhattan             Midtown  40.75362   \n2          Elisabeth           Manhattan              Harlem  40.80902   \n3        LisaRoxanne            Brooklyn        Clinton Hill  40.68514   \n4              Laura           Manhattan         East Harlem  40.79851   \n...              ...                 ...                 ...       ...   \n48890        Sabrina            Brooklyn  Bedford-Stuyvesant  40.67853   \n48891        Marisol            Brooklyn            Bushwick  40.70184   \n48892  Ilgar & Aysel           Manhattan              Harlem  40.81475   \n48893            Taz           Manhattan      Hell's Kitchen  40.75751   \n48894     Christophe           Manhattan      Hell's Kitchen  40.76404   \n\n       longitude        room_type  price  minimum_nights  number_of_reviews  \\\n0      -73.97237     Private room    149               1                  9   \n1      -73.98377  Entire home/apt    225               1                 45   \n2      -73.94190     Private room    150               3                  0   \n3      -73.95976  Entire home/apt     89               1                270   \n4      -73.94399  Entire home/apt     80              10                  9   \n...          ...              ...    ...             ...                ...   \n48890  -73.94995     Private room     70               2                  0   \n48891  -73.93317     Private room     40               4                  0   \n48892  -73.94867  Entire home/apt    115              10                  0   \n48893  -73.99112      Shared room     55               1                  0   \n48894  -73.98933     Private room     90               7                  0   \n\n      last_review  reviews_per_month  calculated_host_listings_count  \\\n0      2018-10-19               0.21                               6   \n1      2019-05-21               0.38                               2   \n2             NaN                NaN                               1   \n3      2019-07-05               4.64                               1   \n4      2018-11-19               0.10                               1   \n...           ...                ...                             ...   \n48890         NaN                NaN                               2   \n48891         NaN                NaN                               2   \n48892         NaN                NaN                               1   \n48893         NaN                NaN                               6   \n48894         NaN                NaN                               1   \n\n       availability_365  \n0                   365  \n1                   355  \n2                   365  \n3                   194  \n4                     0  \n...                 ...  \n48890                 9  \n48891                36  \n48892                27  \n48893                 2  \n48894                23  \n\n[48895 rows x 16 columns]",
      "text/html": "<div>\n<style scoped>\n    .dataframe tbody tr th:only-of-type {\n        vertical-align: middle;\n    }\n\n    .dataframe tbody tr th {\n        vertical-align: top;\n    }\n\n    .dataframe thead th {\n        text-align: right;\n    }\n</style>\n<table border=\"1\" class=\"dataframe\">\n  <thead>\n    <tr style=\"text-align: right;\">\n      <th></th>\n      <th>id</th>\n      <th>name</th>\n      <th>host_id</th>\n      <th>host_name</th>\n      <th>neighbourhood_group</th>\n      <th>neighbourhood</th>\n      <th>latitude</th>\n      <th>longitude</th>\n      <th>room_type</th>\n      <th>price</th>\n      <th>minimum_nights</th>\n      <th>number_of_reviews</th>\n      <th>last_review</th>\n      <th>reviews_per_month</th>\n      <th>calculated_host_listings_count</th>\n      <th>availability_365</th>\n    </tr>\n  </thead>\n  <tbody>\n    <tr>\n      <th>0</th>\n      <td>2539</td>\n      <td>Clean &amp; quiet apt home by the park</td>\n      <td>2787</td>\n      <td>John</td>\n      <td>Brooklyn</td>\n      <td>Kensington</td>\n      <td>40.64749</td>\n      <td>-73.97237</td>\n      <td>Private room</td>\n      <td>149</td>\n      <td>1</td>\n      <td>9</td>\n      <td>2018-10-19</td>\n      <td>0.21</td>\n      <td>6</td>\n      <td>365</td>\n    </tr>\n    <tr>\n      <th>1</th>\n      <td>2595</td>\n      <td>Skylit Midtown Castle</td>\n      <td>2845</td>\n      <td>Jennifer</td>\n      <td>Manhattan</td>\n      <td>Midtown</td>\n      <td>40.75362</td>\n      <td>-73.98377</td>\n      <td>Entire home/apt</td>\n      <td>225</td>\n      <td>1</td>\n      <td>45</td>\n      <td>2019-05-21</td>\n      <td>0.38</td>\n      <td>2</td>\n      <td>355</td>\n    </tr>\n    <tr>\n      <th>2</th>\n      <td>3647</td>\n      <td>THE VILLAGE OF HARLEM....NEW YORK !</td>\n      <td>4632</td>\n      <td>Elisabeth</td>\n      <td>Manhattan</td>\n      <td>Harlem</td>\n      <td>40.80902</td>\n      <td>-73.94190</td>\n      <td>Private room</td>\n      <td>150</td>\n      <td>3</td>\n      <td>0</td>\n      <td>NaN</td>\n      <td>NaN</td>\n      <td>1</td>\n      <td>365</td>\n    </tr>\n    <tr>\n      <th>3</th>\n      <td>3831</td>\n      <td>Cozy Entire Floor of Brownstone</td>\n      <td>4869</td>\n      <td>LisaRoxanne</td>\n      <td>Brooklyn</td>\n      <td>Clinton Hill</td>\n      <td>40.68514</td>\n      <td>-73.95976</td>\n      <td>Entire home/apt</td>\n      <td>89</td>\n      <td>1</td>\n      <td>270</td>\n      <td>2019-07-05</td>\n      <td>4.64</td>\n      <td>1</td>\n      <td>194</td>\n    </tr>\n    <tr>\n      <th>4</th>\n      <td>5022</td>\n      <td>Entire Apt: Spacious Studio/Loft by central park</td>\n      <td>7192</td>\n      <td>Laura</td>\n      <td>Manhattan</td>\n      <td>East Harlem</td>\n      <td>40.79851</td>\n      <td>-73.94399</td>\n      <td>Entire home/apt</td>\n      <td>80</td>\n      <td>10</td>\n      <td>9</td>\n      <td>2018-11-19</td>\n      <td>0.10</td>\n      <td>1</td>\n      <td>0</td>\n    </tr>\n    <tr>\n      <th>...</th>\n      <td>...</td>\n      <td>...</td>\n      <td>...</td>\n      <td>...</td>\n      <td>...</td>\n      <td>...</td>\n      <td>...</td>\n      <td>...</td>\n      <td>...</td>\n      <td>...</td>\n      <td>...</td>\n      <td>...</td>\n      <td>...</td>\n      <td>...</td>\n      <td>...</td>\n      <td>...</td>\n    </tr>\n    <tr>\n      <th>48890</th>\n      <td>36484665</td>\n      <td>Charming one bedroom - newly renovated rowhouse</td>\n      <td>8232441</td>\n      <td>Sabrina</td>\n      <td>Brooklyn</td>\n      <td>Bedford-Stuyvesant</td>\n      <td>40.67853</td>\n      <td>-73.94995</td>\n      <td>Private room</td>\n      <td>70</td>\n      <td>2</td>\n      <td>0</td>\n      <td>NaN</td>\n      <td>NaN</td>\n      <td>2</td>\n      <td>9</td>\n    </tr>\n    <tr>\n      <th>48891</th>\n      <td>36485057</td>\n      <td>Affordable room in Bushwick/East Williamsburg</td>\n      <td>6570630</td>\n      <td>Marisol</td>\n      <td>Brooklyn</td>\n      <td>Bushwick</td>\n      <td>40.70184</td>\n      <td>-73.93317</td>\n      <td>Private room</td>\n      <td>40</td>\n      <td>4</td>\n      <td>0</td>\n      <td>NaN</td>\n      <td>NaN</td>\n      <td>2</td>\n      <td>36</td>\n    </tr>\n    <tr>\n      <th>48892</th>\n      <td>36485431</td>\n      <td>Sunny Studio at Historical Neighborhood</td>\n      <td>23492952</td>\n      <td>Ilgar &amp; Aysel</td>\n      <td>Manhattan</td>\n      <td>Harlem</td>\n      <td>40.81475</td>\n      <td>-73.94867</td>\n      <td>Entire home/apt</td>\n      <td>115</td>\n      <td>10</td>\n      <td>0</td>\n      <td>NaN</td>\n      <td>NaN</td>\n      <td>1</td>\n      <td>27</td>\n    </tr>\n    <tr>\n      <th>48893</th>\n      <td>36485609</td>\n      <td>43rd St. Time Square-cozy single bed</td>\n      <td>30985759</td>\n      <td>Taz</td>\n      <td>Manhattan</td>\n      <td>Hell's Kitchen</td>\n      <td>40.75751</td>\n      <td>-73.99112</td>\n      <td>Shared room</td>\n      <td>55</td>\n      <td>1</td>\n      <td>0</td>\n      <td>NaN</td>\n      <td>NaN</td>\n      <td>6</td>\n      <td>2</td>\n    </tr>\n    <tr>\n      <th>48894</th>\n      <td>36487245</td>\n      <td>Trendy duplex in the very heart of Hell's Kitchen</td>\n      <td>68119814</td>\n      <td>Christophe</td>\n      <td>Manhattan</td>\n      <td>Hell's Kitchen</td>\n      <td>40.76404</td>\n      <td>-73.98933</td>\n      <td>Private room</td>\n      <td>90</td>\n      <td>7</td>\n      <td>0</td>\n      <td>NaN</td>\n      <td>NaN</td>\n      <td>1</td>\n      <td>23</td>\n    </tr>\n  </tbody>\n</table>\n<p>48895 rows × 16 columns</p>\n</div>"
     },
     "execution_count": 83,
     "metadata": {},
     "output_type": "execute_result"
    }
   ]
  },
  {
   "cell_type": "code",
   "execution_count": 84,
   "outputs": [
    {
     "data": {
      "text/plain": "id                                48895\nname                              47905\nhost_id                           37457\nhost_name                         11452\nneighbourhood_group                   5\nneighbourhood                       221\nlatitude                          19048\nlongitude                         14718\nroom_type                             3\nprice                               674\nminimum_nights                      109\nnumber_of_reviews                   394\nlast_review                        1764\nreviews_per_month                   937\ncalculated_host_listings_count       47\navailability_365                    366\ndtype: int64"
     },
     "execution_count": 84,
     "metadata": {},
     "output_type": "execute_result"
    }
   ],
   "source": [
    "airbnb_data.nunique()"
   ],
   "metadata": {
    "collapsed": false
   }
  },
  {
   "cell_type": "code",
   "execution_count": 85,
   "outputs": [
    {
     "name": "stdout",
     "output_type": "stream",
     "text": [
      "Shape of trimmed dataset:  (48895, 8)\n"
     ]
    },
    {
     "data": {
      "text/plain": "  neighbourhood_group neighbourhood        room_type  price  minimum_nights  \\\n0            Brooklyn    Kensington     Private room    149               1   \n1           Manhattan       Midtown  Entire home/apt    225               1   \n2           Manhattan        Harlem     Private room    150               3   \n3            Brooklyn  Clinton Hill  Entire home/apt     89               1   \n4           Manhattan   East Harlem  Entire home/apt     80              10   \n\n   number_of_reviews  calculated_host_listings_count  availability_365  \n0                  9                               6               365  \n1                 45                               2               355  \n2                  0                               1               365  \n3                270                               1               194  \n4                  9                               1                 0  ",
      "text/html": "<div>\n<style scoped>\n    .dataframe tbody tr th:only-of-type {\n        vertical-align: middle;\n    }\n\n    .dataframe tbody tr th {\n        vertical-align: top;\n    }\n\n    .dataframe thead th {\n        text-align: right;\n    }\n</style>\n<table border=\"1\" class=\"dataframe\">\n  <thead>\n    <tr style=\"text-align: right;\">\n      <th></th>\n      <th>neighbourhood_group</th>\n      <th>neighbourhood</th>\n      <th>room_type</th>\n      <th>price</th>\n      <th>minimum_nights</th>\n      <th>number_of_reviews</th>\n      <th>calculated_host_listings_count</th>\n      <th>availability_365</th>\n    </tr>\n  </thead>\n  <tbody>\n    <tr>\n      <th>0</th>\n      <td>Brooklyn</td>\n      <td>Kensington</td>\n      <td>Private room</td>\n      <td>149</td>\n      <td>1</td>\n      <td>9</td>\n      <td>6</td>\n      <td>365</td>\n    </tr>\n    <tr>\n      <th>1</th>\n      <td>Manhattan</td>\n      <td>Midtown</td>\n      <td>Entire home/apt</td>\n      <td>225</td>\n      <td>1</td>\n      <td>45</td>\n      <td>2</td>\n      <td>355</td>\n    </tr>\n    <tr>\n      <th>2</th>\n      <td>Manhattan</td>\n      <td>Harlem</td>\n      <td>Private room</td>\n      <td>150</td>\n      <td>3</td>\n      <td>0</td>\n      <td>1</td>\n      <td>365</td>\n    </tr>\n    <tr>\n      <th>3</th>\n      <td>Brooklyn</td>\n      <td>Clinton Hill</td>\n      <td>Entire home/apt</td>\n      <td>89</td>\n      <td>1</td>\n      <td>270</td>\n      <td>1</td>\n      <td>194</td>\n    </tr>\n    <tr>\n      <th>4</th>\n      <td>Manhattan</td>\n      <td>East Harlem</td>\n      <td>Entire home/apt</td>\n      <td>80</td>\n      <td>10</td>\n      <td>9</td>\n      <td>1</td>\n      <td>0</td>\n    </tr>\n  </tbody>\n</table>\n</div>"
     },
     "execution_count": 85,
     "metadata": {},
     "output_type": "execute_result"
    }
   ],
   "source": [
    "# Id(s) and name(s) are just the identifiers\n",
    "# All properties are at the same range of latitude\n",
    "# Number of reviews relates to num_of_reviews\n",
    "airbnb_data.drop(['id', 'name', 'host_id', 'host_name', 'latitude', 'longitude', 'last_review', 'reviews_per_month'], axis = 1, inplace = True)\n",
    "print('Shape of trimmed dataset: ', airbnb_data.shape)\n",
    "airbnb_data.head()"
   ],
   "metadata": {
    "collapsed": false
   }
  },
  {
   "cell_type": "code",
   "execution_count": 86,
   "outputs": [
    {
     "data": {
      "text/plain": "neighbourhood_group               0\nneighbourhood                     0\nroom_type                         0\nprice                             0\nminimum_nights                    0\nnumber_of_reviews                 0\ncalculated_host_listings_count    0\navailability_365                  0\ndtype: int64"
     },
     "execution_count": 86,
     "metadata": {},
     "output_type": "execute_result"
    }
   ],
   "source": [
    "airbnb_data.isna().sum()"
   ],
   "metadata": {
    "collapsed": false
   }
  },
  {
   "cell_type": "markdown",
   "source": [
    "### 2. Data conversion\n",
    "Select appropriate text features and suitably convert them into numerical features. [5 pts]\n",
    "\n"
   ],
   "metadata": {
    "id": "w8fT4yTkHOhV"
   },
   "id": "w8fT4yTkHOhV"
  },
  {
   "cell_type": "code",
   "source": [
    "cat_features = ['neighbourhood_group', 'neighbourhood', 'room_type']\n",
    "encoder = LabelEncoder()\n",
    "\n",
    "print('neighbourhood_group mapping:')\n",
    "encoder.fit(airbnb_data['neighbourhood_group'])\n",
    "print(dict(zip(encoder.classes_, encoder.transform(encoder.classes_))))\n",
    "airbnb_data['neighbourhood_group'] = encoder.transform(airbnb_data['neighbourhood_group'])\n",
    "\n",
    "print('neighbourhood mapping:')\n",
    "encoder.fit(airbnb_data['neighbourhood'])\n",
    "print(dict(zip(encoder.classes_, encoder.transform(encoder.classes_))))\n",
    "airbnb_data['neighbourhood'] = encoder.transform(airbnb_data['neighbourhood'])\n",
    "\n",
    "print('room_type mapping:')\n",
    "encoder.fit(airbnb_data['room_type'])\n",
    "print(dict(zip(encoder.classes_, encoder.transform(encoder.classes_))))\n",
    "airbnb_data['room_type'] = encoder.transform(airbnb_data['room_type'])"
   ],
   "metadata": {
    "id": "_8WJNmCiHlE_"
   },
   "id": "_8WJNmCiHlE_",
   "execution_count": 87,
   "outputs": [
    {
     "name": "stdout",
     "output_type": "stream",
     "text": [
      "neighbourhood_group mapping:\n",
      "{'Bronx': 0, 'Brooklyn': 1, 'Manhattan': 2, 'Queens': 3, 'Staten Island': 4}\n",
      "neighbourhood mapping:\n",
      "{'Allerton': 0, 'Arden Heights': 1, 'Arrochar': 2, 'Arverne': 3, 'Astoria': 4, 'Bath Beach': 5, 'Battery Park City': 6, 'Bay Ridge': 7, 'Bay Terrace': 8, 'Bay Terrace, Staten Island': 9, 'Baychester': 10, 'Bayside': 11, 'Bayswater': 12, 'Bedford-Stuyvesant': 13, 'Belle Harbor': 14, 'Bellerose': 15, 'Belmont': 16, 'Bensonhurst': 17, 'Bergen Beach': 18, 'Boerum Hill': 19, 'Borough Park': 20, 'Breezy Point': 21, 'Briarwood': 22, 'Brighton Beach': 23, 'Bronxdale': 24, 'Brooklyn Heights': 25, 'Brownsville': 26, \"Bull's Head\": 27, 'Bushwick': 28, 'Cambria Heights': 29, 'Canarsie': 30, 'Carroll Gardens': 31, 'Castle Hill': 32, 'Castleton Corners': 33, 'Chelsea': 34, 'Chinatown': 35, 'City Island': 36, 'Civic Center': 37, 'Claremont Village': 38, 'Clason Point': 39, 'Clifton': 40, 'Clinton Hill': 41, 'Co-op City': 42, 'Cobble Hill': 43, 'College Point': 44, 'Columbia St': 45, 'Concord': 46, 'Concourse': 47, 'Concourse Village': 48, 'Coney Island': 49, 'Corona': 50, 'Crown Heights': 51, 'Cypress Hills': 52, 'DUMBO': 53, 'Ditmars Steinway': 54, 'Dongan Hills': 55, 'Douglaston': 56, 'Downtown Brooklyn': 57, 'Dyker Heights': 58, 'East Elmhurst': 59, 'East Flatbush': 60, 'East Harlem': 61, 'East Morrisania': 62, 'East New York': 63, 'East Village': 64, 'Eastchester': 65, 'Edenwald': 66, 'Edgemere': 67, 'Elmhurst': 68, 'Eltingville': 69, 'Emerson Hill': 70, 'Far Rockaway': 71, 'Fieldston': 72, 'Financial District': 73, 'Flatbush': 74, 'Flatiron District': 75, 'Flatlands': 76, 'Flushing': 77, 'Fordham': 78, 'Forest Hills': 79, 'Fort Greene': 80, 'Fort Hamilton': 81, 'Fort Wadsworth': 82, 'Fresh Meadows': 83, 'Glendale': 84, 'Gowanus': 85, 'Gramercy': 86, 'Graniteville': 87, 'Grant City': 88, 'Gravesend': 89, 'Great Kills': 90, 'Greenpoint': 91, 'Greenwich Village': 92, 'Grymes Hill': 93, 'Harlem': 94, \"Hell's Kitchen\": 95, 'Highbridge': 96, 'Hollis': 97, 'Holliswood': 98, 'Howard Beach': 99, 'Howland Hook': 100, 'Huguenot': 101, 'Hunts Point': 102, 'Inwood': 103, 'Jackson Heights': 104, 'Jamaica': 105, 'Jamaica Estates': 106, 'Jamaica Hills': 107, 'Kensington': 108, 'Kew Gardens': 109, 'Kew Gardens Hills': 110, 'Kingsbridge': 111, 'Kips Bay': 112, 'Laurelton': 113, 'Lighthouse Hill': 114, 'Little Italy': 115, 'Little Neck': 116, 'Long Island City': 117, 'Longwood': 118, 'Lower East Side': 119, 'Manhattan Beach': 120, 'Marble Hill': 121, 'Mariners Harbor': 122, 'Maspeth': 123, 'Melrose': 124, 'Middle Village': 125, 'Midland Beach': 126, 'Midtown': 127, 'Midwood': 128, 'Mill Basin': 129, 'Morningside Heights': 130, 'Morris Heights': 131, 'Morris Park': 132, 'Morrisania': 133, 'Mott Haven': 134, 'Mount Eden': 135, 'Mount Hope': 136, 'Murray Hill': 137, 'Navy Yard': 138, 'Neponsit': 139, 'New Brighton': 140, 'New Dorp': 141, 'New Dorp Beach': 142, 'New Springville': 143, 'NoHo': 144, 'Nolita': 145, 'North Riverdale': 146, 'Norwood': 147, 'Oakwood': 148, 'Olinville': 149, 'Ozone Park': 150, 'Park Slope': 151, 'Parkchester': 152, 'Pelham Bay': 153, 'Pelham Gardens': 154, 'Port Morris': 155, 'Port Richmond': 156, \"Prince's Bay\": 157, 'Prospect Heights': 158, 'Prospect-Lefferts Gardens': 159, 'Queens Village': 160, 'Randall Manor': 161, 'Red Hook': 162, 'Rego Park': 163, 'Richmond Hill': 164, 'Richmondtown': 165, 'Ridgewood': 166, 'Riverdale': 167, 'Rockaway Beach': 168, 'Roosevelt Island': 169, 'Rosebank': 170, 'Rosedale': 171, 'Rossville': 172, 'Schuylerville': 173, 'Sea Gate': 174, 'Sheepshead Bay': 175, 'Shore Acres': 176, 'Silver Lake': 177, 'SoHo': 178, 'Soundview': 179, 'South Beach': 180, 'South Ozone Park': 181, 'South Slope': 182, 'Springfield Gardens': 183, 'Spuyten Duyvil': 184, 'St. Albans': 185, 'St. George': 186, 'Stapleton': 187, 'Stuyvesant Town': 188, 'Sunnyside': 189, 'Sunset Park': 190, 'Theater District': 191, 'Throgs Neck': 192, 'Todt Hill': 193, 'Tompkinsville': 194, 'Tottenville': 195, 'Tremont': 196, 'Tribeca': 197, 'Two Bridges': 198, 'Unionport': 199, 'University Heights': 200, 'Upper East Side': 201, 'Upper West Side': 202, 'Van Nest': 203, 'Vinegar Hill': 204, 'Wakefield': 205, 'Washington Heights': 206, 'West Brighton': 207, 'West Farms': 208, 'West Village': 209, 'Westchester Square': 210, 'Westerleigh': 211, 'Whitestone': 212, 'Williamsbridge': 213, 'Williamsburg': 214, 'Willowbrook': 215, 'Windsor Terrace': 216, 'Woodhaven': 217, 'Woodlawn': 218, 'Woodrow': 219, 'Woodside': 220}\n",
      "room_type mapping:\n",
      "{'Entire home/apt': 0, 'Private room': 1, 'Shared room': 2}\n"
     ]
    }
   ]
  },
  {
   "cell_type": "code",
   "execution_count": 88,
   "outputs": [
    {
     "data": {
      "text/plain": "       neighbourhood_group  neighbourhood  room_type  price  minimum_nights  \\\n0                        1            108          1    149               1   \n1                        2            127          0    225               1   \n2                        2             94          1    150               3   \n3                        1             41          0     89               1   \n4                        2             61          0     80              10   \n...                    ...            ...        ...    ...             ...   \n48890                    1             13          1     70               2   \n48891                    1             28          1     40               4   \n48892                    2             94          0    115              10   \n48893                    2             95          2     55               1   \n48894                    2             95          1     90               7   \n\n       number_of_reviews  calculated_host_listings_count  availability_365  \n0                      9                               6               365  \n1                     45                               2               355  \n2                      0                               1               365  \n3                    270                               1               194  \n4                      9                               1                 0  \n...                  ...                             ...               ...  \n48890                  0                               2                 9  \n48891                  0                               2                36  \n48892                  0                               1                27  \n48893                  0                               6                 2  \n48894                  0                               1                23  \n\n[48895 rows x 8 columns]",
      "text/html": "<div>\n<style scoped>\n    .dataframe tbody tr th:only-of-type {\n        vertical-align: middle;\n    }\n\n    .dataframe tbody tr th {\n        vertical-align: top;\n    }\n\n    .dataframe thead th {\n        text-align: right;\n    }\n</style>\n<table border=\"1\" class=\"dataframe\">\n  <thead>\n    <tr style=\"text-align: right;\">\n      <th></th>\n      <th>neighbourhood_group</th>\n      <th>neighbourhood</th>\n      <th>room_type</th>\n      <th>price</th>\n      <th>minimum_nights</th>\n      <th>number_of_reviews</th>\n      <th>calculated_host_listings_count</th>\n      <th>availability_365</th>\n    </tr>\n  </thead>\n  <tbody>\n    <tr>\n      <th>0</th>\n      <td>1</td>\n      <td>108</td>\n      <td>1</td>\n      <td>149</td>\n      <td>1</td>\n      <td>9</td>\n      <td>6</td>\n      <td>365</td>\n    </tr>\n    <tr>\n      <th>1</th>\n      <td>2</td>\n      <td>127</td>\n      <td>0</td>\n      <td>225</td>\n      <td>1</td>\n      <td>45</td>\n      <td>2</td>\n      <td>355</td>\n    </tr>\n    <tr>\n      <th>2</th>\n      <td>2</td>\n      <td>94</td>\n      <td>1</td>\n      <td>150</td>\n      <td>3</td>\n      <td>0</td>\n      <td>1</td>\n      <td>365</td>\n    </tr>\n    <tr>\n      <th>3</th>\n      <td>1</td>\n      <td>41</td>\n      <td>0</td>\n      <td>89</td>\n      <td>1</td>\n      <td>270</td>\n      <td>1</td>\n      <td>194</td>\n    </tr>\n    <tr>\n      <th>4</th>\n      <td>2</td>\n      <td>61</td>\n      <td>0</td>\n      <td>80</td>\n      <td>10</td>\n      <td>9</td>\n      <td>1</td>\n      <td>0</td>\n    </tr>\n    <tr>\n      <th>...</th>\n      <td>...</td>\n      <td>...</td>\n      <td>...</td>\n      <td>...</td>\n      <td>...</td>\n      <td>...</td>\n      <td>...</td>\n      <td>...</td>\n    </tr>\n    <tr>\n      <th>48890</th>\n      <td>1</td>\n      <td>13</td>\n      <td>1</td>\n      <td>70</td>\n      <td>2</td>\n      <td>0</td>\n      <td>2</td>\n      <td>9</td>\n    </tr>\n    <tr>\n      <th>48891</th>\n      <td>1</td>\n      <td>28</td>\n      <td>1</td>\n      <td>40</td>\n      <td>4</td>\n      <td>0</td>\n      <td>2</td>\n      <td>36</td>\n    </tr>\n    <tr>\n      <th>48892</th>\n      <td>2</td>\n      <td>94</td>\n      <td>0</td>\n      <td>115</td>\n      <td>10</td>\n      <td>0</td>\n      <td>1</td>\n      <td>27</td>\n    </tr>\n    <tr>\n      <th>48893</th>\n      <td>2</td>\n      <td>95</td>\n      <td>2</td>\n      <td>55</td>\n      <td>1</td>\n      <td>0</td>\n      <td>6</td>\n      <td>2</td>\n    </tr>\n    <tr>\n      <th>48894</th>\n      <td>2</td>\n      <td>95</td>\n      <td>1</td>\n      <td>90</td>\n      <td>7</td>\n      <td>0</td>\n      <td>1</td>\n      <td>23</td>\n    </tr>\n  </tbody>\n</table>\n<p>48895 rows × 8 columns</p>\n</div>"
     },
     "execution_count": 88,
     "metadata": {},
     "output_type": "execute_result"
    }
   ],
   "source": [
    "airbnb_data"
   ],
   "metadata": {
    "collapsed": false
   }
  },
  {
   "cell_type": "markdown",
   "source": [
    "### 3. Model Training:\n",
    "Train a linear regression model over the entire data.  [5 pts]\n",
    "\n",
    "[Note 1: A library can be used, Target variable is 'price', Use all features.]\n",
    "\n",
    "[Note 2: Report and maintain accuracy and time taken to train the model]\n",
    "\n"
   ],
   "metadata": {
    "id": "K3RwCKqRHmGT"
   },
   "id": "K3RwCKqRHmGT"
  },
  {
   "cell_type": "code",
   "execution_count": 89,
   "id": "36f86884",
   "metadata": {
    "id": "36f86884"
   },
   "outputs": [
    {
     "name": "stdout",
     "output_type": "stream",
     "text": [
      "Time taken: 0.008s\n",
      "Accuracy score: 0.0767\n"
     ]
    }
   ],
   "source": [
    "X = airbnb_data.loc[:, airbnb_data.columns != 'price']\n",
    "y = airbnb_data.loc[:, 'price']\n",
    "\n",
    "regressor = LinearRegression()\n",
    "\n",
    "start = time.time()\n",
    "regressor.fit(X, y)\n",
    "end = time.time()\n",
    "print(f'Time taken: {np.round(end - start, 4)}s')\n",
    "print(f'Accuracy score: {np.round(regressor.score(X, y), 4)}')"
   ]
  },
  {
   "cell_type": "markdown",
   "source": [
    "### 4. Apply PCA: \n",
    "Use PCA to reduce dimensions to N = 5, 4, 3, 2, 1. Using these new features, train the a new model again. [10 pts.]\n",
    "\n",
    "[Note 3: A library can be used for PCA, Target variable is still 'price', Use 'N' features at a time for a model.]\n",
    "\n",
    "[Note 4: Report and maintain accuracy and time taken to train each the model and also the time taken for PCA for each 'N' value.]\n",
    "\n",
    "\n"
   ],
   "metadata": {
    "id": "A_p_sTRZHoxw"
   },
   "id": "A_p_sTRZHoxw"
  },
  {
   "cell_type": "code",
   "source": [
    "for n_com in range(1, 8):\n",
    "    pca = PCA(n_components = n_com)\n",
    "\n",
    "    start = time.time()\n",
    "    components = pca.fit_transform(X)\n",
    "    end = time.time()\n",
    "    print(f'n_components = {n_com}')\n",
    "    print(f'Time taken for PCA: {np.round(end - start, 4)}s')\n",
    "\n",
    "    start = time.time()\n",
    "    regressor.fit(components, y)\n",
    "    end = time.time()\n",
    "    print(f'Total explained variance: {pca.explained_variance_ratio_.sum() * 100}')\n",
    "    print(f'Time taken to train: {np.round(end - start, 4)}s')\n",
    "    print(f'Accuracy score: {np.round(regressor.score(components, y), 4)}')\n",
    "    print()"
   ],
   "metadata": {
    "id": "10D08noKHq4A"
   },
   "id": "10D08noKHq4A",
   "execution_count": 96,
   "outputs": [
    {
     "name": "stdout",
     "output_type": "stream",
     "text": [
      "n_components = 1\n",
      "Time taken for PCA: 0.0322s\n",
      "Total explained variance: 68.37613491364104\n",
      "Time taken to train: 0.002s\n",
      "Accuracy score: 0.0064\n",
      "\n",
      "n_components = 2\n",
      "Time taken for PCA: 0.0305s\n",
      "Total explained variance: 86.8640725440804\n",
      "Time taken to train: 0.003s\n",
      "Accuracy score: 0.011\n",
      "\n",
      "n_components = 3\n",
      "Time taken for PCA: 0.0329s\n",
      "Total explained variance: 94.51205491756582\n",
      "Time taken to train: 0.004s\n",
      "Accuracy score: 0.0153\n",
      "\n",
      "n_components = 4\n",
      "Time taken for PCA: 0.032s\n",
      "Total explained variance: 98.42824743059184\n",
      "Time taken to train: 0.0055s\n",
      "Accuracy score: 0.0158\n",
      "\n",
      "n_components = 5\n",
      "Time taken for PCA: 0.031s\n",
      "Total explained variance: 99.99678975609724\n",
      "Time taken to train: 0.006s\n",
      "Accuracy score: 0.0161\n",
      "\n",
      "n_components = 6\n",
      "Time taken for PCA: 0.009s\n",
      "Total explained variance: 99.99886175942237\n",
      "Time taken to train: 0.005s\n",
      "Accuracy score: 0.0169\n",
      "\n",
      "n_components = 7\n",
      "Time taken for PCA: 0.0086s\n",
      "Total explained variance: 100.0\n",
      "Time taken to train: 0.007s\n",
      "Accuracy score: 0.0767\n",
      "\n"
     ]
    }
   ]
  },
  {
   "cell_type": "markdown",
   "source": [
    "### 5. Visualisation \n",
    "[6 pts]\n",
    "5.1 Plot a graph, for number of features vs accuracy [Total 1+5 plots]. [2 pts]\n",
    "5.2 Plot a graph, for time spend on training models [excluding the PCA time] vs accuracy [Total 1+5 plots]. [2 pts]\n",
    "\n",
    "5.3 Plot a graph, for time spend on training models [including the PCA time] vs accuracy [Total 1+5 plots]. [2 pts]\n",
    "\n",
    "[Note 5] : Since each sub part have 6 plots, try to make a 2x3 or 3x2 type of plot, so that 'glance' is possible.\n",
    "\n",
    "\n"
   ],
   "metadata": {
    "id": "__6w03QCHrNO"
   },
   "id": "__6w03QCHrNO"
  },
  {
   "cell_type": "code",
   "source": [],
   "metadata": {
    "id": "BnYLQJf2Ht0u"
   },
   "id": "BnYLQJf2Ht0u",
   "execution_count": 90,
   "outputs": []
  },
  {
   "cell_type": "markdown",
   "source": [
    "### 6. Analyze \n",
    "Have a look on the created plots, what do you think about the effectiveness of PCA in this practical application? Write your opinion with supportive arguments. [2 pts]"
   ],
   "metadata": {
    "id": "TS1EAzJgHuFQ"
   },
   "id": "TS1EAzJgHuFQ"
  }
 ],
 "metadata": {
  "kernelspec": {
   "display_name": "Python 3 (ipykernel)",
   "language": "python",
   "name": "python3"
  },
  "language_info": {
   "codemirror_mode": {
    "name": "ipython",
    "version": 3
   },
   "file_extension": ".py",
   "mimetype": "text/x-python",
   "name": "python",
   "nbconvert_exporter": "python",
   "pygments_lexer": "ipython3",
   "version": "3.7.9"
  },
  "colab": {
   "provenance": []
  }
 },
 "nbformat": 4,
 "nbformat_minor": 5
}
