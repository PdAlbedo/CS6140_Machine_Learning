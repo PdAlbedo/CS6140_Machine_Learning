{
 "cells": [
  {
   "cell_type": "markdown",
   "id": "c50742cc",
   "metadata": {
    "id": "c50742cc"
   },
   "source": [
    "# CS6140 Machine Learning: Assignment 4 (F22) (Total Points: 100)\n",
    "## Prof. Ahmad Uzair\n"
   ]
  },
  {
   "cell_type": "markdown",
   "source": [
    "## 2. PCA understanding [10 pts]"
   ],
   "metadata": {
    "id": "X_u550vmG2Fx"
   },
   "id": "X_u550vmG2Fx"
  },
  {
   "cell_type": "markdown",
   "id": "dda9cf90",
   "metadata": {
    "id": "dda9cf90"
   },
   "source": [
    "#### 1. Write your understanding of PCA."
   ]
  },
  {
   "cell_type": "markdown",
   "source": [
    "PCA reduces the dimensionality of a data set by identifying the most important exes of variation and using only the most important. Since some features are unhelpful to build the model and make predictions, PCA can project data onto primary axis, which, in many cases, projects the data from higher dimension space to lower dimension space by linear combination based on the original features."
   ],
   "metadata": {
    "collapsed": false
   }
  },
  {
   "cell_type": "markdown",
   "id": "cc668c68",
   "metadata": {
    "id": "cc668c68"
   },
   "source": [
    "#### 2. Why is it needed?"
   ]
  },
  {
   "cell_type": "markdown",
   "source": [
    "PCA helps us to find the important patterns, and it can simplify the complexity in higher dimension space while retaining trends and patterns, which compress the data and retain most of the information. And this helps us to understand the data. In the reduced dimension space, we can observe the trends, jumps, clusters, and outliers efficiently, and uncover the relationships between observations and variables. This can solve the collinearity by decorating the features, which by reducing the influence of some features to observe the true relationships between the features and observations."
   ],
   "metadata": {
    "collapsed": false
   }
  },
  {
   "cell_type": "markdown",
   "id": "bd325edb",
   "metadata": {
    "id": "bd325edb"
   },
   "source": [
    "#### 3. How does it works?"
   ]
  },
  {
   "cell_type": "markdown",
   "source": [
    "First, we decompose the correlation matrix and get the eigenvalues and eigenvectors. Then we use the eigenvectors to transform the input data. Based on the eigenvalues, we select the most important or most explanatory components, and discard some of the components that are not much explanatory."
   ],
   "metadata": {
    "collapsed": false
   }
  },
  {
   "cell_type": "markdown",
   "id": "ba91e809",
   "metadata": {
    "id": "ba91e809"
   },
   "source": [
    "#### 4. How does it helps ?"
   ]
  },
  {
   "cell_type": "markdown",
   "source": [
    "PCA reduces data by geometrically projecting them onto lower dimensions called principal components, with the goal of finding the best summary of the data using a limited number of PCs. The PC(s) are chosen to minimize the total distance between the data and their projection onto the PC. By minimizing this distance, we also maximize the variance of the projected points. In this case we can increase interpretability but at the same time minimizing information loss."
   ],
   "metadata": {
    "collapsed": false
   }
  },
  {
   "cell_type": "markdown",
   "id": "ad36cfdf",
   "metadata": {
    "id": "ad36cfdf"
   },
   "source": [
    "#### 5. Think of and give an example scenario where it is useful and can be used."
   ]
  },
  {
   "cell_type": "markdown",
   "source": [
    "Assume we have a dataset that the features are strongly correlated, in this case, we need to apply PCA to the dataset. For instance, there is a dataset describes the expenditure of different customers in a mall. The dataset may contain their ages, incomes, living regions, credit card limits, etc. There might be some relationships between the features, so we do not know which feature affect the expenditure the most, like maybe both income and credit card limit have a positive relationship with the amount of expenditure, and we need to know the importance of different features. That's the reason why we use PCA."
   ],
   "metadata": {
    "collapsed": false
   }
  },
  {
   "cell_type": "markdown",
   "id": "50e897b2",
   "metadata": {
    "id": "50e897b2"
   },
   "source": [
    "## 2. Coding Exercise [30 pts]"
   ]
  },
  {
   "cell_type": "code",
   "execution_count": 79,
   "outputs": [],
   "source": [
    "import pandas as pd"
   ],
   "metadata": {
    "collapsed": false
   }
  },
  {
   "cell_type": "markdown",
   "id": "157f20f6",
   "metadata": {
    "id": "157f20f6"
   },
   "source": [
    "** Note : Read The Whole Question For Better Understanding Of The Demand Of The Exercise.**\n",
    "\n",
    "Read the given csv file ('airbnb.csv')\n",
    "\n",
    "### 1. [Feature elimination] : Carefully look and understand the nature of the data, remove potentially unnecessary/less useful features. [2 pts]\n",
    "\n",
    "[Hint: After elimination you should be left with 8-10 features]\n",
    "\n"
   ]
  },
  {
   "cell_type": "code",
   "source": [
    "airbnb_data = pd.read_csv('airbnb.csv')\n",
    "print('Shape of dateset: ', airbnb_data.shape)\n",
    "airbnb_data"
   ],
   "metadata": {
    "id": "Jy8dqIpVHOMd"
   },
   "id": "Jy8dqIpVHOMd",
   "execution_count": 80,
   "outputs": [
    {
     "name": "stdout",
     "output_type": "stream",
     "text": [
      "Shape of dateset:  (48895, 16)\n"
     ]
    },
    {
     "data": {
      "text/plain": "             id                                               name   host_id  \\\n0          2539                 Clean & quiet apt home by the park      2787   \n1          2595                              Skylit Midtown Castle      2845   \n2          3647                THE VILLAGE OF HARLEM....NEW YORK !      4632   \n3          3831                    Cozy Entire Floor of Brownstone      4869   \n4          5022   Entire Apt: Spacious Studio/Loft by central park      7192   \n...         ...                                                ...       ...   \n48890  36484665    Charming one bedroom - newly renovated rowhouse   8232441   \n48891  36485057      Affordable room in Bushwick/East Williamsburg   6570630   \n48892  36485431            Sunny Studio at Historical Neighborhood  23492952   \n48893  36485609               43rd St. Time Square-cozy single bed  30985759   \n48894  36487245  Trendy duplex in the very heart of Hell's Kitchen  68119814   \n\n           host_name neighbourhood_group       neighbourhood  latitude  \\\n0               John            Brooklyn          Kensington  40.64749   \n1           Jennifer           Manhattan             Midtown  40.75362   \n2          Elisabeth           Manhattan              Harlem  40.80902   \n3        LisaRoxanne            Brooklyn        Clinton Hill  40.68514   \n4              Laura           Manhattan         East Harlem  40.79851   \n...              ...                 ...                 ...       ...   \n48890        Sabrina            Brooklyn  Bedford-Stuyvesant  40.67853   \n48891        Marisol            Brooklyn            Bushwick  40.70184   \n48892  Ilgar & Aysel           Manhattan              Harlem  40.81475   \n48893            Taz           Manhattan      Hell's Kitchen  40.75751   \n48894     Christophe           Manhattan      Hell's Kitchen  40.76404   \n\n       longitude        room_type  price  minimum_nights  number_of_reviews  \\\n0      -73.97237     Private room    149               1                  9   \n1      -73.98377  Entire home/apt    225               1                 45   \n2      -73.94190     Private room    150               3                  0   \n3      -73.95976  Entire home/apt     89               1                270   \n4      -73.94399  Entire home/apt     80              10                  9   \n...          ...              ...    ...             ...                ...   \n48890  -73.94995     Private room     70               2                  0   \n48891  -73.93317     Private room     40               4                  0   \n48892  -73.94867  Entire home/apt    115              10                  0   \n48893  -73.99112      Shared room     55               1                  0   \n48894  -73.98933     Private room     90               7                  0   \n\n      last_review  reviews_per_month  calculated_host_listings_count  \\\n0      2018-10-19               0.21                               6   \n1      2019-05-21               0.38                               2   \n2             NaN                NaN                               1   \n3      2019-07-05               4.64                               1   \n4      2018-11-19               0.10                               1   \n...           ...                ...                             ...   \n48890         NaN                NaN                               2   \n48891         NaN                NaN                               2   \n48892         NaN                NaN                               1   \n48893         NaN                NaN                               6   \n48894         NaN                NaN                               1   \n\n       availability_365  \n0                   365  \n1                   355  \n2                   365  \n3                   194  \n4                     0  \n...                 ...  \n48890                 9  \n48891                36  \n48892                27  \n48893                 2  \n48894                23  \n\n[48895 rows x 16 columns]",
      "text/html": "<div>\n<style scoped>\n    .dataframe tbody tr th:only-of-type {\n        vertical-align: middle;\n    }\n\n    .dataframe tbody tr th {\n        vertical-align: top;\n    }\n\n    .dataframe thead th {\n        text-align: right;\n    }\n</style>\n<table border=\"1\" class=\"dataframe\">\n  <thead>\n    <tr style=\"text-align: right;\">\n      <th></th>\n      <th>id</th>\n      <th>name</th>\n      <th>host_id</th>\n      <th>host_name</th>\n      <th>neighbourhood_group</th>\n      <th>neighbourhood</th>\n      <th>latitude</th>\n      <th>longitude</th>\n      <th>room_type</th>\n      <th>price</th>\n      <th>minimum_nights</th>\n      <th>number_of_reviews</th>\n      <th>last_review</th>\n      <th>reviews_per_month</th>\n      <th>calculated_host_listings_count</th>\n      <th>availability_365</th>\n    </tr>\n  </thead>\n  <tbody>\n    <tr>\n      <th>0</th>\n      <td>2539</td>\n      <td>Clean &amp; quiet apt home by the park</td>\n      <td>2787</td>\n      <td>John</td>\n      <td>Brooklyn</td>\n      <td>Kensington</td>\n      <td>40.64749</td>\n      <td>-73.97237</td>\n      <td>Private room</td>\n      <td>149</td>\n      <td>1</td>\n      <td>9</td>\n      <td>2018-10-19</td>\n      <td>0.21</td>\n      <td>6</td>\n      <td>365</td>\n    </tr>\n    <tr>\n      <th>1</th>\n      <td>2595</td>\n      <td>Skylit Midtown Castle</td>\n      <td>2845</td>\n      <td>Jennifer</td>\n      <td>Manhattan</td>\n      <td>Midtown</td>\n      <td>40.75362</td>\n      <td>-73.98377</td>\n      <td>Entire home/apt</td>\n      <td>225</td>\n      <td>1</td>\n      <td>45</td>\n      <td>2019-05-21</td>\n      <td>0.38</td>\n      <td>2</td>\n      <td>355</td>\n    </tr>\n    <tr>\n      <th>2</th>\n      <td>3647</td>\n      <td>THE VILLAGE OF HARLEM....NEW YORK !</td>\n      <td>4632</td>\n      <td>Elisabeth</td>\n      <td>Manhattan</td>\n      <td>Harlem</td>\n      <td>40.80902</td>\n      <td>-73.94190</td>\n      <td>Private room</td>\n      <td>150</td>\n      <td>3</td>\n      <td>0</td>\n      <td>NaN</td>\n      <td>NaN</td>\n      <td>1</td>\n      <td>365</td>\n    </tr>\n    <tr>\n      <th>3</th>\n      <td>3831</td>\n      <td>Cozy Entire Floor of Brownstone</td>\n      <td>4869</td>\n      <td>LisaRoxanne</td>\n      <td>Brooklyn</td>\n      <td>Clinton Hill</td>\n      <td>40.68514</td>\n      <td>-73.95976</td>\n      <td>Entire home/apt</td>\n      <td>89</td>\n      <td>1</td>\n      <td>270</td>\n      <td>2019-07-05</td>\n      <td>4.64</td>\n      <td>1</td>\n      <td>194</td>\n    </tr>\n    <tr>\n      <th>4</th>\n      <td>5022</td>\n      <td>Entire Apt: Spacious Studio/Loft by central park</td>\n      <td>7192</td>\n      <td>Laura</td>\n      <td>Manhattan</td>\n      <td>East Harlem</td>\n      <td>40.79851</td>\n      <td>-73.94399</td>\n      <td>Entire home/apt</td>\n      <td>80</td>\n      <td>10</td>\n      <td>9</td>\n      <td>2018-11-19</td>\n      <td>0.10</td>\n      <td>1</td>\n      <td>0</td>\n    </tr>\n    <tr>\n      <th>...</th>\n      <td>...</td>\n      <td>...</td>\n      <td>...</td>\n      <td>...</td>\n      <td>...</td>\n      <td>...</td>\n      <td>...</td>\n      <td>...</td>\n      <td>...</td>\n      <td>...</td>\n      <td>...</td>\n      <td>...</td>\n      <td>...</td>\n      <td>...</td>\n      <td>...</td>\n      <td>...</td>\n    </tr>\n    <tr>\n      <th>48890</th>\n      <td>36484665</td>\n      <td>Charming one bedroom - newly renovated rowhouse</td>\n      <td>8232441</td>\n      <td>Sabrina</td>\n      <td>Brooklyn</td>\n      <td>Bedford-Stuyvesant</td>\n      <td>40.67853</td>\n      <td>-73.94995</td>\n      <td>Private room</td>\n      <td>70</td>\n      <td>2</td>\n      <td>0</td>\n      <td>NaN</td>\n      <td>NaN</td>\n      <td>2</td>\n      <td>9</td>\n    </tr>\n    <tr>\n      <th>48891</th>\n      <td>36485057</td>\n      <td>Affordable room in Bushwick/East Williamsburg</td>\n      <td>6570630</td>\n      <td>Marisol</td>\n      <td>Brooklyn</td>\n      <td>Bushwick</td>\n      <td>40.70184</td>\n      <td>-73.93317</td>\n      <td>Private room</td>\n      <td>40</td>\n      <td>4</td>\n      <td>0</td>\n      <td>NaN</td>\n      <td>NaN</td>\n      <td>2</td>\n      <td>36</td>\n    </tr>\n    <tr>\n      <th>48892</th>\n      <td>36485431</td>\n      <td>Sunny Studio at Historical Neighborhood</td>\n      <td>23492952</td>\n      <td>Ilgar &amp; Aysel</td>\n      <td>Manhattan</td>\n      <td>Harlem</td>\n      <td>40.81475</td>\n      <td>-73.94867</td>\n      <td>Entire home/apt</td>\n      <td>115</td>\n      <td>10</td>\n      <td>0</td>\n      <td>NaN</td>\n      <td>NaN</td>\n      <td>1</td>\n      <td>27</td>\n    </tr>\n    <tr>\n      <th>48893</th>\n      <td>36485609</td>\n      <td>43rd St. Time Square-cozy single bed</td>\n      <td>30985759</td>\n      <td>Taz</td>\n      <td>Manhattan</td>\n      <td>Hell's Kitchen</td>\n      <td>40.75751</td>\n      <td>-73.99112</td>\n      <td>Shared room</td>\n      <td>55</td>\n      <td>1</td>\n      <td>0</td>\n      <td>NaN</td>\n      <td>NaN</td>\n      <td>6</td>\n      <td>2</td>\n    </tr>\n    <tr>\n      <th>48894</th>\n      <td>36487245</td>\n      <td>Trendy duplex in the very heart of Hell's Kitchen</td>\n      <td>68119814</td>\n      <td>Christophe</td>\n      <td>Manhattan</td>\n      <td>Hell's Kitchen</td>\n      <td>40.76404</td>\n      <td>-73.98933</td>\n      <td>Private room</td>\n      <td>90</td>\n      <td>7</td>\n      <td>0</td>\n      <td>NaN</td>\n      <td>NaN</td>\n      <td>1</td>\n      <td>23</td>\n    </tr>\n  </tbody>\n</table>\n<p>48895 rows × 16 columns</p>\n</div>"
     },
     "execution_count": 80,
     "metadata": {},
     "output_type": "execute_result"
    }
   ]
  },
  {
   "cell_type": "code",
   "execution_count": 81,
   "outputs": [
    {
     "data": {
      "text/plain": "id                                48895\nname                              47905\nhost_id                           37457\nhost_name                         11452\nneighbourhood_group                   5\nneighbourhood                       221\nlatitude                          19048\nlongitude                         14718\nroom_type                             3\nprice                               674\nminimum_nights                      109\nnumber_of_reviews                   394\nlast_review                        1764\nreviews_per_month                   937\ncalculated_host_listings_count       47\navailability_365                    366\ndtype: int64"
     },
     "execution_count": 81,
     "metadata": {},
     "output_type": "execute_result"
    }
   ],
   "source": [
    "airbnb_data.nunique()"
   ],
   "metadata": {
    "collapsed": false
   }
  },
  {
   "cell_type": "code",
   "execution_count": 82,
   "outputs": [
    {
     "name": "stdout",
     "output_type": "stream",
     "text": [
      "Shape of trimmed dataset:  (48895, 8)\n"
     ]
    },
    {
     "data": {
      "text/plain": "  neighbourhood_group neighbourhood        room_type  price  minimum_nights  \\\n0            Brooklyn    Kensington     Private room    149               1   \n1           Manhattan       Midtown  Entire home/apt    225               1   \n2           Manhattan        Harlem     Private room    150               3   \n3            Brooklyn  Clinton Hill  Entire home/apt     89               1   \n4           Manhattan   East Harlem  Entire home/apt     80              10   \n\n   number_of_reviews  calculated_host_listings_count  availability_365  \n0                  9                               6               365  \n1                 45                               2               355  \n2                  0                               1               365  \n3                270                               1               194  \n4                  9                               1                 0  ",
      "text/html": "<div>\n<style scoped>\n    .dataframe tbody tr th:only-of-type {\n        vertical-align: middle;\n    }\n\n    .dataframe tbody tr th {\n        vertical-align: top;\n    }\n\n    .dataframe thead th {\n        text-align: right;\n    }\n</style>\n<table border=\"1\" class=\"dataframe\">\n  <thead>\n    <tr style=\"text-align: right;\">\n      <th></th>\n      <th>neighbourhood_group</th>\n      <th>neighbourhood</th>\n      <th>room_type</th>\n      <th>price</th>\n      <th>minimum_nights</th>\n      <th>number_of_reviews</th>\n      <th>calculated_host_listings_count</th>\n      <th>availability_365</th>\n    </tr>\n  </thead>\n  <tbody>\n    <tr>\n      <th>0</th>\n      <td>Brooklyn</td>\n      <td>Kensington</td>\n      <td>Private room</td>\n      <td>149</td>\n      <td>1</td>\n      <td>9</td>\n      <td>6</td>\n      <td>365</td>\n    </tr>\n    <tr>\n      <th>1</th>\n      <td>Manhattan</td>\n      <td>Midtown</td>\n      <td>Entire home/apt</td>\n      <td>225</td>\n      <td>1</td>\n      <td>45</td>\n      <td>2</td>\n      <td>355</td>\n    </tr>\n    <tr>\n      <th>2</th>\n      <td>Manhattan</td>\n      <td>Harlem</td>\n      <td>Private room</td>\n      <td>150</td>\n      <td>3</td>\n      <td>0</td>\n      <td>1</td>\n      <td>365</td>\n    </tr>\n    <tr>\n      <th>3</th>\n      <td>Brooklyn</td>\n      <td>Clinton Hill</td>\n      <td>Entire home/apt</td>\n      <td>89</td>\n      <td>1</td>\n      <td>270</td>\n      <td>1</td>\n      <td>194</td>\n    </tr>\n    <tr>\n      <th>4</th>\n      <td>Manhattan</td>\n      <td>East Harlem</td>\n      <td>Entire home/apt</td>\n      <td>80</td>\n      <td>10</td>\n      <td>9</td>\n      <td>1</td>\n      <td>0</td>\n    </tr>\n  </tbody>\n</table>\n</div>"
     },
     "execution_count": 82,
     "metadata": {},
     "output_type": "execute_result"
    }
   ],
   "source": [
    "# Id(s) and name(s) are just the identifiers\n",
    "# All properties are at the same range of latitude\n",
    "# Number of reviews relates to num_of_reviews\n",
    "airbnb_data.drop(['id', 'name', 'host_id', 'host_name', 'latitude', 'longitude', 'last_review', 'reviews_per_month'], axis = 1, inplace = True)\n",
    "print('Shape of trimmed dataset: ', airbnb_data.shape)\n",
    "airbnb_data.head()"
   ],
   "metadata": {
    "collapsed": false
   }
  },
  {
   "cell_type": "code",
   "execution_count": 83,
   "outputs": [
    {
     "data": {
      "text/plain": "neighbourhood_group               0\nneighbourhood                     0\nroom_type                         0\nprice                             0\nminimum_nights                    0\nnumber_of_reviews                 0\ncalculated_host_listings_count    0\navailability_365                  0\ndtype: int64"
     },
     "execution_count": 83,
     "metadata": {},
     "output_type": "execute_result"
    }
   ],
   "source": [
    "airbnb_data.isna().sum()"
   ],
   "metadata": {
    "collapsed": false
   }
  },
  {
   "cell_type": "markdown",
   "source": [
    "### 2. Data conversion\n",
    "Select appropriate text features and suitably convert them into numerical features. [5 pts]\n",
    "\n"
   ],
   "metadata": {
    "id": "w8fT4yTkHOhV"
   },
   "id": "w8fT4yTkHOhV"
  },
  {
   "cell_type": "code",
   "source": [],
   "metadata": {
    "id": "_8WJNmCiHlE_"
   },
   "id": "_8WJNmCiHlE_",
   "execution_count": 84,
   "outputs": []
  },
  {
   "cell_type": "markdown",
   "source": [
    "### 3. Model Training:\n",
    "Train a linear regression model over the entire data.  [5 pts]\n",
    "\n",
    "[Note 1: A library can be used, Target variable is 'price', Use all features.]\n",
    "\n",
    "[Note 2: Report and maintain accuracy and time taken to train the model]\n",
    "\n"
   ],
   "metadata": {
    "id": "K3RwCKqRHmGT"
   },
   "id": "K3RwCKqRHmGT"
  },
  {
   "cell_type": "code",
   "execution_count": 84,
   "id": "36f86884",
   "metadata": {
    "id": "36f86884"
   },
   "outputs": [],
   "source": []
  },
  {
   "cell_type": "markdown",
   "source": [
    "### 4. Apply PCA: \n",
    "Use PCA to reduce dimensions to N = 5, 4, 3, 2, 1. Using these new features, train the a new model again. [10 pts.]\n",
    "\n",
    "[Note 3: A library can be used for PCA, Target variable is still 'price', Use 'N' features at a time for a model.]\n",
    "\n",
    "[Note 4: Report and maintain accuracy and time taken to train each the model and also the time taken for PCA for each 'N' value.]\n",
    "\n",
    "\n"
   ],
   "metadata": {
    "id": "A_p_sTRZHoxw"
   },
   "id": "A_p_sTRZHoxw"
  },
  {
   "cell_type": "code",
   "source": [],
   "metadata": {
    "id": "10D08noKHq4A"
   },
   "id": "10D08noKHq4A",
   "execution_count": 84,
   "outputs": []
  },
  {
   "cell_type": "markdown",
   "source": [
    "### 5. Visualisation \n",
    "[6 pts]\n",
    "5.1 Plot a graph, for number of features vs accuracy [Total 1+5 plots]. [2 pts]\n",
    "5.2 Plot a graph, for time spend on training models [excluding the PCA time] vs accuracy [Total 1+5 plots]. [2 pts]\n",
    "\n",
    "5.3 Plot a graph, for time spend on training models [including the PCA time] vs accuracy [Total 1+5 plots]. [2 pts]\n",
    "\n",
    "[Note 5] : Since each sub part have 6 plots, try to make a 2x3 or 3x2 type of plot, so that 'glance' is possible.\n",
    "\n",
    "\n"
   ],
   "metadata": {
    "id": "__6w03QCHrNO"
   },
   "id": "__6w03QCHrNO"
  },
  {
   "cell_type": "code",
   "source": [],
   "metadata": {
    "id": "BnYLQJf2Ht0u"
   },
   "id": "BnYLQJf2Ht0u",
   "execution_count": 84,
   "outputs": []
  },
  {
   "cell_type": "markdown",
   "source": [
    "### 6. Analyze \n",
    "Have a look on the created plots, what do you think about the effectiveness of PCA in this practical application? Write your opinion with supportive arguments. [2 pts]"
   ],
   "metadata": {
    "id": "TS1EAzJgHuFQ"
   },
   "id": "TS1EAzJgHuFQ"
  }
 ],
 "metadata": {
  "kernelspec": {
   "display_name": "Python 3 (ipykernel)",
   "language": "python",
   "name": "python3"
  },
  "language_info": {
   "codemirror_mode": {
    "name": "ipython",
    "version": 3
   },
   "file_extension": ".py",
   "mimetype": "text/x-python",
   "name": "python",
   "nbconvert_exporter": "python",
   "pygments_lexer": "ipython3",
   "version": "3.7.9"
  },
  "colab": {
   "provenance": []
  }
 },
 "nbformat": 4,
 "nbformat_minor": 5
}
