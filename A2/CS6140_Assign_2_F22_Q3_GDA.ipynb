{
 "cells": [
  {
   "cell_type": "markdown",
   "id": "49e4dd76",
   "metadata": {
    "id": "49e4dd76"
   },
   "source": [
    "# Question 3. Gaussian Discriminant Analysis  [40 pts.]"
   ]
  },
  {
   "cell_type": "markdown",
   "id": "178c88df",
   "metadata": {
    "id": "178c88df"
   },
   "source": [
    "### A. Theoritical Questions.  [20 pts.]"
   ]
  },
  {
   "cell_type": "markdown",
   "id": "3d774df7",
   "metadata": {
    "id": "3d774df7"
   },
   "source": [
    "#### Write a short note about : "
   ]
  },
  {
   "cell_type": "markdown",
   "id": "cc49dc80",
   "metadata": {
    "id": "cc49dc80"
   },
   "source": [
    "1. Difference between $\\textbf{Generative}$ model and $\\textbf{Discrimininative}$ model ? \n",
    "2. Difference between $\\textbf{Linear}$ and $\\textbf{Quadratic}$ decision boundaries w.r.t GDA ?\n",
    "3. Difference between $\\textbf{Gaussian Discriminant Analysis}$ and $\\textbf{Logistic Regression}$ as a classifier ?\n",
    "4. Difference between $\\textbf{Univariate}$ & $\\textbf{Multivariate}$ GDA.\n"
   ]
  },
  {
   "cell_type": "markdown",
   "source": [
    "1. Discriminative model predicts the label by calculating the probability of the instance is this label given the feature values. In this case, the discriminative model models\n",
    "the decision boundary between the classes. In other word, the discriminative model predicts the unseen data on conditional probability. Generative model focuses on the distribution\n",
    "of a dataset to return a probability for a given example. The generative model learns the joint probability distribution. For instance, if we are predicting an animal is a sheep or\n",
    "a goat: in discriminative model, we extract the features from this animal, and calculation the probability that it's a sheep and the probability that it's a goat given the features; in\n",
    "generative model, we generate a sheep by learned sheep features and also generate a goat by learned goat features, and then extract the animal's features to check if it's more likely\n",
    "to be a sheep or a goat.\n",
    "\n",
    "2. Linear decision boundary is calculated by a linear equation, and if the decision boundary is linear, the covariance matrix of different classes are identical; Quadratic decision boundary\n",
    "is calculated by quadratic functions, if the decision boundary is quadratic, the covariance matrix of different classes are different. In visualization, the linear decision boundary performs\n",
    "as a hyperplane that separates the different classes; the quadratic decision boundary may perform as an uneven hyperplane.\n",
    "\n",
    "3. Gaussian discriminant analysis is a generative model, but logistic regression is a discriminative model. Gaussian discriminant analysis makes more specific assumptions about the dataset than logistic\n",
    "regression; on the other hand, logistic regression makes more generic assumptions and is useful when the distribution of features is not Gaussian. Also, if P(x|y) above is multivariate gaussian with shared\n",
    "covariance, then we can calculate P(y|x) and find out that it follows a logistic function. However, if P(y|x) follows a logistic function, P(x|y) may not be multivariate gaussian with shared\n",
    "covariance. Thus, when the data follows the Gaussian distribution, Gaussian discriminant analysis will perform better and have a better efficiency, which achieve a good performance from fewer instances.\n",
    "Logistic regression's generic model performs robuster, especially when data distribution is not Gaussian.\n",
    "\n",
    "4. Univariate GDA analyses a single variable, and multivariate GDA analyses more than one variable. Univariate GDA implies the distribution of a single variable, while multivariate GDA implies the relationship\n",
    "between several variables. Data distribution in univariate GDA will be the distribution of a single variable which contains only one center, however, data distribution in multivariate GDA will be the distribution\n",
    "of more than one variable which contains multiple centers."
   ],
   "metadata": {
    "collapsed": false
   }
  },
  {
   "cell_type": "markdown",
   "id": "aa5f6d79",
   "metadata": {
    "id": "aa5f6d79"
   },
   "source": [
    "### B. Coding Question. [20 pts.]"
   ]
  },
  {
   "cell_type": "markdown",
   "id": "7015c328",
   "metadata": {
    "id": "7015c328"
   },
   "source": [
    "Given data set $\\textbf{\"gaussian_discriminant_analysis.csv\"}$ , plot the decison boundry [Linear] using $\\textbf{GDA}$ .\n",
    "\n",
    "The data contains 100 data points [50 for each class].\n",
    "\n",
    "Note : The implementations must be done from scratch, data manipulation libraries like numpy, pandas etc are allowed."
   ]
  },
  {
   "cell_type": "code",
   "execution_count": 1,
   "id": "2e165484",
   "metadata": {
    "id": "2e165484"
   },
   "outputs": [],
   "source": [
    "import sys\n",
    "import pandas as pd\n",
    "import matplotlib.pyplot as plt\n",
    "\n",
    "## TODO : Required imports as necessary."
   ]
  },
  {
   "cell_type": "code",
   "execution_count": 2,
   "id": "cee9d617",
   "metadata": {
    "id": "cee9d617"
   },
   "outputs": [
    {
     "data": {
      "text/plain": "      Col_0     Col_1  Label\n0 -0.590912  0.221098      0\n1 -0.366340  1.578768      0\n2  1.111379  3.185019      0\n3  0.329676  2.633543      0\n4  1.259236  3.327122      0",
      "text/html": "<div>\n<style scoped>\n    .dataframe tbody tr th:only-of-type {\n        vertical-align: middle;\n    }\n\n    .dataframe tbody tr th {\n        vertical-align: top;\n    }\n\n    .dataframe thead th {\n        text-align: right;\n    }\n</style>\n<table border=\"1\" class=\"dataframe\">\n  <thead>\n    <tr style=\"text-align: right;\">\n      <th></th>\n      <th>Col_0</th>\n      <th>Col_1</th>\n      <th>Label</th>\n    </tr>\n  </thead>\n  <tbody>\n    <tr>\n      <th>0</th>\n      <td>-0.590912</td>\n      <td>0.221098</td>\n      <td>0</td>\n    </tr>\n    <tr>\n      <th>1</th>\n      <td>-0.366340</td>\n      <td>1.578768</td>\n      <td>0</td>\n    </tr>\n    <tr>\n      <th>2</th>\n      <td>1.111379</td>\n      <td>3.185019</td>\n      <td>0</td>\n    </tr>\n    <tr>\n      <th>3</th>\n      <td>0.329676</td>\n      <td>2.633543</td>\n      <td>0</td>\n    </tr>\n    <tr>\n      <th>4</th>\n      <td>1.259236</td>\n      <td>3.327122</td>\n      <td>0</td>\n    </tr>\n  </tbody>\n</table>\n</div>"
     },
     "execution_count": 2,
     "metadata": {},
     "output_type": "execute_result"
    }
   ],
   "source": [
    "## TODO : Import the data as necessary.\n",
    "data = pd.read_csv('gaussian_discriminant_analysis.csv', names = ['Col_0', 'Col_1', 'Label'])\n",
    "data.head(5)"
   ]
  },
  {
   "cell_type": "code",
   "execution_count": 3,
   "id": "8558f422",
   "metadata": {
    "id": "8558f422",
    "outputId": "c6de72fb-d781-4f7a-c960-ac30a21cbd17"
   },
   "outputs": [
    {
     "data": {
      "text/plain": "            Col_0       Col_1       Label\ncount  100.000000  100.000000  100.000000\nmean     3.927237    5.027441    0.500000\nstd      3.137358    3.340557    0.502519\nmin     -0.651939   -0.552670    0.000000\n25%      0.961299    1.870980    0.000000\n50%      3.645872    4.503459    0.500000\n75%      6.917812    8.144461    1.000000\nmax      9.811431   11.771933    1.000000",
      "text/html": "<div>\n<style scoped>\n    .dataframe tbody tr th:only-of-type {\n        vertical-align: middle;\n    }\n\n    .dataframe tbody tr th {\n        vertical-align: top;\n    }\n\n    .dataframe thead th {\n        text-align: right;\n    }\n</style>\n<table border=\"1\" class=\"dataframe\">\n  <thead>\n    <tr style=\"text-align: right;\">\n      <th></th>\n      <th>Col_0</th>\n      <th>Col_1</th>\n      <th>Label</th>\n    </tr>\n  </thead>\n  <tbody>\n    <tr>\n      <th>count</th>\n      <td>100.000000</td>\n      <td>100.000000</td>\n      <td>100.000000</td>\n    </tr>\n    <tr>\n      <th>mean</th>\n      <td>3.927237</td>\n      <td>5.027441</td>\n      <td>0.500000</td>\n    </tr>\n    <tr>\n      <th>std</th>\n      <td>3.137358</td>\n      <td>3.340557</td>\n      <td>0.502519</td>\n    </tr>\n    <tr>\n      <th>min</th>\n      <td>-0.651939</td>\n      <td>-0.552670</td>\n      <td>0.000000</td>\n    </tr>\n    <tr>\n      <th>25%</th>\n      <td>0.961299</td>\n      <td>1.870980</td>\n      <td>0.000000</td>\n    </tr>\n    <tr>\n      <th>50%</th>\n      <td>3.645872</td>\n      <td>4.503459</td>\n      <td>0.500000</td>\n    </tr>\n    <tr>\n      <th>75%</th>\n      <td>6.917812</td>\n      <td>8.144461</td>\n      <td>1.000000</td>\n    </tr>\n    <tr>\n      <th>max</th>\n      <td>9.811431</td>\n      <td>11.771933</td>\n      <td>1.000000</td>\n    </tr>\n  </tbody>\n</table>\n</div>"
     },
     "execution_count": 3,
     "metadata": {},
     "output_type": "execute_result"
    }
   ],
   "source": [
    "## To ensure your data is not curropted, run \"df.describe\" atleast once to be sure,\n",
    "## below is a representation of how \"df.describe\" must look like.\n",
    "data.describe()"
   ]
  },
  {
   "cell_type": "code",
   "execution_count": 4,
   "id": "2a730bd0",
   "metadata": {
    "id": "2a730bd0",
    "outputId": "8030d318-d104-4e06-d0e9-6f72237b1d11"
   },
   "outputs": [
    {
     "data": {
      "text/plain": "<matplotlib.collections.PathCollection at 0x1c2e2e73fd0>"
     },
     "execution_count": 4,
     "metadata": {},
     "output_type": "execute_result"
    },
    {
     "data": {
      "text/plain": "<Figure size 640x480 with 1 Axes>",
      "image/png": "[encoded data removed]"
     },
     "metadata": {},
     "output_type": "display_data"
    }
   ],
   "source": [
    "## Manipulate data as neccesary & create a scatter plot using any plotting library [preferably 'matplotlib'].\n",
    "## Below is how the data must look like.\n",
    "## Blue : the data with label 0 [positive].\n",
    "## Red  : the data with label 1 [negative].\n",
    "\n",
    "## TODO: Your code below.\n",
    "plt.scatter(data['Col_0'], data['Col_1'], s = 15, c = data['Label'].map(lambda x: 'red' if x == 1 else 'blue'))"
   ]
  },
  {
   "cell_type": "code",
   "execution_count": 5,
   "id": "a73ce743",
   "metadata": {
    "id": "a73ce743"
   },
   "outputs": [
    {
     "ename": "SyntaxError",
     "evalue": "invalid syntax (2589571255.py, line 12)",
     "output_type": "error",
     "traceback": [
      "\u001B[1;36m  Cell \u001B[1;32mIn [5], line 12\u001B[1;36m\u001B[0m\n\u001B[1;33m    self.phi = # TODO : Manipulate it accordingly.\u001B[0m\n\u001B[1;37m               ^\u001B[0m\n\u001B[1;31mSyntaxError\u001B[0m\u001B[1;31m:\u001B[0m invalid syntax\n"
     ]
    }
   ],
   "source": [
    "## A boiler plate sample code on how you may create your GDA class.\n",
    "## This is a suggestive code & you may code it according your own way.\n",
    "\n",
    "class GDA():\n",
    "    def __init__(self):\n",
    "        self.phi   = 0  # TODO : Initialise it with appropriate value/variable/placeholder.\n",
    "        self.mu0   = 0  # TODO : Initialise it with appropriate value/variable/placeholder.\n",
    "        self.mu1   = 0  # TODO : Initialise it with appropriate value/variable/placeholder.\n",
    "        self.sigma = 0  # TODO : Initialise it with appropriate value/variable/placeholder.\n",
    "\n",
    "    def train(self, x, y):\n",
    "        self.phi = # TODO : Manipulate it accordingly. \n",
    "        self.mu0 = # TODO : Manipulate it accordingly. \n",
    "        self.mu1 = # TODO : Manipulate it accordingly. \n",
    "\n",
    "        ## Disambiguative Hint : n_x / p_x  --> negative_x & positive_x.\n",
    "        n_x = # TODO : Manipulate it accordingly. \n",
    "        p_x = # TODO : Manipulate it accordingly. \n",
    "\n",
    "        self.sigma = # TODO : Manipulate it accordingly. [HINT : matrix manipulations]."
   ]
  },
  {
   "cell_type": "code",
   "execution_count": null,
   "id": "b153da7a",
   "metadata": {
    "id": "b153da7a"
   },
   "outputs": [],
   "source": [
    "X_train = # TODO : Manipulate it accordingly.\n",
    "Y_train = # TODO : Manipulate it accordingly.\n",
    "\n",
    "gda = GDA()\n",
    "gda.train(X_train, Y_train)\n",
    "\n",
    "# TODO : Operations to get decison boundry."
   ]
  },
  {
   "cell_type": "code",
   "execution_count": null,
   "id": "ffe0e64b",
   "metadata": {
    "id": "ffe0e64b",
    "outputId": "213c1244-ecbe-499a-b1b6-01a373cc40a4"
   },
   "outputs": [],
   "source": [
    "\"\"\"\n",
    "Draw GDA Decision Boundary Along with data points.\n",
    "\n",
    "Note : The decision line must seperate the data points clearly.\n",
    "\"\"\"\n",
    "\n",
    "# # __________ Suggestive code below, not necessarily to be followed exactly. __________\n",
    "# plt.scatter(pos_data[:,0], pos_data[:,1], color=\"red\")\n",
    "# plt.scatter(neg_data[:,0], neg_data[:,1], color=\"blue\")\n",
    "# plt.plot(x1,x2)\n",
    "# plt.show()"
   ]
  },
  {
   "cell_type": "code",
   "execution_count": null,
   "id": "23eca734",
   "metadata": {
    "id": "23eca734",
    "outputId": "ad641cdb-bc9a-4515-c764-1fa1914ffbf0"
   },
   "outputs": [],
   "source": [
    "\"\"\" Draw contour Along with GDA Decision Boundary and data points. \"\"\"\n",
    "\n",
    "\n",
    "\"\"\" A sample plot is given below. \"\"\""
   ]
  },
  {
   "cell_type": "code",
   "execution_count": null,
   "id": "2020020a",
   "metadata": {
    "id": "2020020a"
   },
   "outputs": [],
   "source": []
  }
 ],
 "metadata": {
  "kernelspec": {
   "display_name": "Python 3 (ipykernel)",
   "language": "python",
   "name": "python3"
  },
  "language_info": {
   "codemirror_mode": {
    "name": "ipython",
    "version": 3
   },
   "file_extension": ".py",
   "mimetype": "text/x-python",
   "name": "python",
   "nbconvert_exporter": "python",
   "pygments_lexer": "ipython3",
   "version": "3.7.9"
  },
  "colab": {
   "provenance": []
  }
 },
 "nbformat": 4,
 "nbformat_minor": 5
}
