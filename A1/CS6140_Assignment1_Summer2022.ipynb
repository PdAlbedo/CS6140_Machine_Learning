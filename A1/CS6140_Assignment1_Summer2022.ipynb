{
 "cells": [
  {
   "cell_type": "markdown",
   "metadata": {
    "id": "lH1avDQgkq-5"
   },
   "source": [
    "# CS 6140 Machine Learning: Assignment - 1 (Total Points: 100)\n",
    "## Prof. Ahmad Uzair"
   ]
  },
  {
   "cell_type": "markdown",
   "metadata": {
    "id": "_PFpvDelkq-6"
   },
   "source": [
    "### Q1. Decision Tree Classifier (50 points)"
   ]
  },
  {
   "cell_type": "code",
   "execution_count": 16,
   "outputs": [],
   "source": [
    "import math\n",
    "import numpy as np\n",
    "import pandas as pd\n",
    "from sklearn.model_selection import train_test_split\n",
    "from sklearn.metrics import accuracy_score"
   ],
   "metadata": {
    "collapsed": false
   }
  },
  {
   "cell_type": "code",
   "execution_count": 17,
   "outputs": [
    {
     "name": "stdout",
     "output_type": "stream",
     "text": [
      "Data shape:  (150, 5)\n"
     ]
    }
   ],
   "source": [
    "data = pd.read_csv('data.csv')\n",
    "print('Data shape: ', data.shape)\n",
    "\n",
    "X = data.iloc[:, :-1].values\n",
    "Y = data.iloc[:, -1].values.reshape(-1, 1)\n",
    "X_train, X_test, Y_train, Y_test = train_test_split(X, Y, train_size = 0.7, random_state = 88, shuffle = True)"
   ],
   "metadata": {
    "collapsed": false
   }
  },
  {
   "cell_type": "markdown",
   "source": [],
   "metadata": {
    "collapsed": false
   }
  },
  {
   "cell_type": "markdown",
   "metadata": {
    "id": "JX03ez5ckq-7"
   },
   "source": [
    "### Q1.1 Growing Decision Trees from scratch (40 points)\n",
    "\n",
    "Decision Trees (DTs) are a non-parametric supervised learning method used for classification and regression. The goal of this question in the assignment is to create a model that predicts the value of a target variable by learning simple decision rules inferred from the data features. \n",
    "You must also print the Decision Tree. Use information gain based on entropy as the splitting measure. \n",
    "\n",
    "Use the data.csv dataset for this particular question. The dataset should be uploaded on Canvas with Assignment 1. Split the dataset into training and test data and calculate testing accuracy.\n",
    "\n"
   ]
  },
  {
   "cell_type": "code",
   "execution_count": 18,
   "outputs": [],
   "source": [
    "class Node:\n",
    "\n",
    "    def __init__(self, feature_index = None, threshold = None, left = None, right = None, info_gain = None, value = None):\n",
    "        # Start code here\n",
    "        # for decision node\n",
    "        self.feature_index = feature_index\n",
    "        self.threshold = threshold\n",
    "        self.left = left\n",
    "        self.right = right\n",
    "        self.info_gain = info_gain\n",
    "\n",
    "        # for leaf node\n",
    "        self.value = value\n",
    "    # End code here"
   ],
   "metadata": {
    "collapsed": false
   }
  },
  {
   "cell_type": "code",
   "execution_count": 19,
   "outputs": [],
   "source": [
    "class DecisionTreeClassifier:\n",
    "    def __init__(self, min_samples_split = 2, max_depth = 2):\n",
    "        # Initialize the root of the decision tree to traverse through the decision tree to None\n",
    "        self.root = None\n",
    "        # initialize the stopping conditions\n",
    "        self.min_samples_split = min_samples_split\n",
    "        self.max_depth = max_depth\n",
    "\n",
    "    def build_tree(self, dataset, curr_depth = 0):\n",
    "        \"\"\"\n",
    "        This will be a recursive function to build the decision tree.\n",
    "        dataset: The data that you will be using for your assignment\n",
    "        curr_depth: Current depth of the tree\n",
    "        Returns the leaf node\n",
    "        \"\"\"\n",
    "        # Separate the features and targets into two variables X and Y\n",
    "        X = dataset[:, :-1]\n",
    "        Y = dataset[:, -1]\n",
    "\n",
    "        # Extract the number of samples and number of features\n",
    "        num_samples = X.shape[0]\n",
    "        num_features = X.shape[1]\n",
    "\n",
    "        # split until stopping conditions are met\n",
    "        if num_samples >= self.min_samples_split and curr_depth <= self.max_depth:\n",
    "            best_split = self.get_best_split(dataset, num_samples, num_features)\n",
    "            # print(best_split)\n",
    "            dataset_left = self.build_tree(best_split['dataset_left'], curr_depth + 1)\n",
    "            dataset_right = self.build_tree(best_split['dataset_right'], curr_depth + 1)\n",
    "            return Node(best_split['feature_idx'], best_split['threshold'], dataset_left, dataset_right, best_split['ig'])\n",
    "\n",
    "        # compute leaf node\n",
    "        leaf_value = self.calculate_leaf_value(Y)\n",
    "\n",
    "        # return the leaf node\n",
    "        return Node(value = leaf_value)\n",
    "\n",
    "    def get_best_split(self, dataset, num_samples, num_features):\n",
    "        \"\"\"\n",
    "        Function to find out the best split\n",
    "        dataset: input data\n",
    "        num_samples: Number of samples present in the dataset\n",
    "        num_features: Number of features in the dataset\n",
    "        Returns the best split\n",
    "        \"\"\"\n",
    "\n",
    "        # dictionary to store the best split\n",
    "        best_split = {}\n",
    "        max_ig = float('-inf')\n",
    "\n",
    "        # loop over all the features in the data\n",
    "        for feature_idx in range(num_features):\n",
    "            feature_col = dataset[:, feature_idx]\n",
    "            # Use the distinct value of current feature as candidates of threshold\n",
    "            for threshold in np.unique(feature_col):\n",
    "                dataset_left, dataset_right = self.split(dataset, feature_idx, threshold)\n",
    "                if len(dataset_left) > 0 and len(dataset_right) > 0:\n",
    "                    y_parent, y_left, y_right = dataset[:, -1], dataset_left[:, -1], dataset_right[:, -1]\n",
    "                    curr_ig = self.information_gain(y_parent, y_left, y_right)\n",
    "                    if curr_ig > max_ig:\n",
    "                        max_ig = curr_ig\n",
    "                        best_split['feature_idx'] = feature_idx\n",
    "                        best_split['threshold'] = threshold\n",
    "                        best_split['dataset_left'] = dataset_left\n",
    "                        best_split['dataset_right'] = dataset_right\n",
    "                        best_split['ig'] = max_ig\n",
    "\n",
    "        return best_split\n",
    "\n",
    "    def split(self, dataset, feature_index, threshold):\n",
    "        \"\"\"\n",
    "        Function to split the data to the left child and right child in the decision tree\n",
    "        dataset: input data\n",
    "        feature_index: feature index used to locate the index of the feature in a particular row in the dataset\n",
    "        threshold: threshold value based on which the split will be calculated\n",
    "        Returns the left and right data values from the dataset\n",
    "        \"\"\"\n",
    "        # Hint: Use list comprehension to distinguish which values would be present in left and right\n",
    "        # subtree on the basis of threshold\n",
    "        dataset_left = np.array([instance for instance in dataset if instance[feature_index] <= threshold])\n",
    "        dataset_right = np.array([instance for instance in dataset if instance[feature_index] > threshold])\n",
    "\n",
    "        return dataset_left, dataset_right\n",
    "\n",
    "    def information_gain(self, parent, l_child, r_child, mode=\"entropy\"):\n",
    "        \"\"\"\n",
    "        Function to calculate information gain. This function subtracts the combined information\n",
    "        of the child node from the parent node.\n",
    "        parent: value of parent node\n",
    "        l_child: value of left child node\n",
    "        r_child: value of right child node\n",
    "        mode: based on which information gain will be calculated either entropy/gini index\n",
    "        Returns the information gain\n",
    "        \"\"\"\n",
    "        perc_left = len(l_child) / len(parent)\n",
    "        perc_right = len(r_child / len(parent))\n",
    "        if mode == 'entropy':\n",
    "            gain = self.entropy(parent) - perc_left * self.entropy(l_child) - perc_right * self.entropy(r_child)\n",
    "        else:\n",
    "            gain = self.gini_index(parent) - perc_left * self.gini_index(l_child) - perc_right * self.gini_index(r_child)\n",
    "        return gain\n",
    "\n",
    "    def entropy(self, y):\n",
    "        \"\"\"\n",
    "        Function to calculate the entropy\n",
    "        y: target labels\n",
    "        Returns entropy\n",
    "        \"\"\"\n",
    "        # Get the number of categories of labels\n",
    "        labels = np.unique(y)\n",
    "        entropy = 0\n",
    "        for label in labels:\n",
    "            prob_label = len(y[y == label])/len(y)\n",
    "            entropy += -prob_label * np.log2(prob_label)\n",
    "\n",
    "        return entropy\n",
    "\n",
    "    def gini_index(self, y):\n",
    "        \"\"\"\n",
    "        Function to calculate gini index\n",
    "        y: target labels\n",
    "        Returns gini index\n",
    "        \"\"\"\n",
    "        labels = np.unique(y)\n",
    "        gini = 0\n",
    "        for label in labels:\n",
    "            prob_label = len(y[y == label])/len(y)\n",
    "            gini += prob_label * (1 - prob_label)\n",
    "\n",
    "        return gini\n",
    "\n",
    "    def calculate_leaf_value(self, Y):\n",
    "        \"\"\"\n",
    "        Function to compute the value of leaf node.Return the most occurring\n",
    "        element in Y. Hint: you can use lists\n",
    "        Y: target labels\n",
    "        Returns leaf node value\n",
    "        \"\"\"\n",
    "        return max(list(Y), key = list(Y).count)\n",
    "\n",
    "    def print_tree(self, tree=None, indent=\" \"):\n",
    "        \"\"\"\n",
    "        Function to print the tree. Use the pre-order traversal method to print the decision tree.\n",
    "        # Do not make any changes in this function\n",
    "        \"\"\"\n",
    "\n",
    "        if not tree:\n",
    "            tree = self.root\n",
    "\n",
    "        if tree.value is not None:\n",
    "            print(tree.value)\n",
    "\n",
    "        else:\n",
    "            print(\"X \" + str(tree.feature_index), \"<=\", tree.threshold, \"?\", tree.info_gain)\n",
    "            print(\"%sleft:\" % indent, end= \" \")\n",
    "            self.print_tree(tree.left, indent + indent)\n",
    "            print(\"%sright\" % indent, end= \" \")\n",
    "            self.print_tree(tree.right, indent + indent)\n",
    "\n",
    "    def fit(self, X, Y):\n",
    "        \"\"\"\n",
    "        Function to train the tree.\n",
    "        X: Features\n",
    "        Y: Target\n",
    "        \"\"\"\n",
    "        # Concatenate X, Y to create the dataset and call the build_tree function recursively\n",
    "        dataset = np.concatenate((X, Y), axis = 1)\n",
    "        self.root = self.build_tree(dataset)\n",
    "\n",
    "    def predict(self, X):\n",
    "        \"\"\"\n",
    "        Prediction function to calculate the all the predictions of the matrix of features\n",
    "        provided using make_predictions function\n",
    "        X: Matrix of features\n",
    "        Returns predictions\n",
    "        \"\"\"\n",
    "        predictions = [self.make_predictions(x, self.root) for x in X]\n",
    "        return predictions\n",
    "\n",
    "    def make_predictions(self, x, tree):\n",
    "        \"\"\"\n",
    "        Function to predict a single datapoint\n",
    "        \"\"\"\n",
    "        # return the value if the node is a leaf node\n",
    "        if tree.value is not None:\n",
    "            return tree.value\n",
    "        if x[tree.feature_index] >= tree.threshold:\n",
    "            return self.make_predictions(x, tree.right)\n",
    "        else:\n",
    "            return self.make_predictions(x, tree.left)"
   ],
   "metadata": {
    "collapsed": false
   }
  },
  {
   "cell_type": "code",
   "execution_count": 20,
   "outputs": [
    {
     "name": "stdout",
     "output_type": "stream",
     "text": [
      "Accuracy Score:  0.9333333333333333\n"
     ]
    }
   ],
   "source": [
    "DT_classifier_hand_write = DecisionTreeClassifier(2, 10)\n",
    "DT_classifier_hand_write.fit(X_train, Y_train)\n",
    "# DT_classifier_hand_write.print_tree()\n",
    "Y_pred = DT_classifier_hand_write.predict(X_test)\n",
    "hand_write_accuracy = accuracy_score(Y_test, Y_pred)\n",
    "print('Accuracy Score: ', hand_write_accuracy)"
   ],
   "metadata": {
    "collapsed": false
   }
  },
  {
   "cell_type": "markdown",
   "metadata": {},
   "source": [
    "### Q1.2 Decision Tree using Sklearn Library (10 points)"
   ]
  },
  {
   "cell_type": "markdown",
   "metadata": {},
   "source": [
    "Use the Decision Tree Classifier from the Sklearn Library and use gini index as a splitting measure. Use the data.csv dataset.\n",
    "Calculate accuracy for this model. \n",
    "Print the Decision tree and compare the Decision Trees generated from your code and Sklearn."
   ]
  },
  {
   "cell_type": "code",
   "execution_count": 21,
   "outputs": [
    {
     "name": "stdout",
     "output_type": "stream",
     "text": [
      "Accuracy Score of built in classifier:  0.9777777777777777\n",
      "Accuracy Score of hand write classifier:  0.9333333333333333\n"
     ]
    }
   ],
   "source": [
    "from sklearn.tree import DecisionTreeClassifier\n",
    "\n",
    "\n",
    "DT_classifier_built_in = DecisionTreeClassifier(max_depth = 10, min_samples_split = 5, random_state = 88)\n",
    "DT_classifier_built_in.fit(X_train, Y_train)\n",
    "Y_pred = DT_classifier_built_in.predict(X_test)\n",
    "print('Accuracy Score of built in classifier: ', accuracy_score(Y_test, Y_pred))\n",
    "print('Accuracy Score of hand write classifier: ', hand_write_accuracy)"
   ],
   "metadata": {
    "collapsed": false
   }
  },
  {
   "cell_type": "markdown",
   "metadata": {
    "id": "IEBH56pukq_H"
   },
   "source": [
    "### Q2 Linear Regression (40 points)\n",
    "\n",
    "Linear regression attempts to model the relationship between two variables by fitting a linear equation to observed data. One variable is considered to be an explanatory variable, and the other is considered to be a dependent variable. \n",
    "<br>\n"
   ]
  },
  {
   "cell_type": "markdown",
   "metadata": {
    "id": "3FL1tuQEkq_H"
   },
   "source": [
    "## Gradient descent algorithm \n",
    "\\begin{equation}\n",
    "\\theta^{+} = \\theta^{-} + \\frac{\\alpha}{m} (y_{i} - h(x_{i}) )\\bar{x}\n",
    "\\end{equation}\n",
    "\n",
    "This minimizes the following cost function\n",
    "\n",
    "\\begin{equation}\n",
    "J(x, \\theta, y) = \\frac{1}{2m}\\sum_{i=1}^{m}(h(x_i) - y_i)^2\n",
    "\\end{equation}\n",
    "\n",
    "where\n",
    "\\begin{equation}\n",
    "h(x_i) = \\theta^T \\bar{x}\n",
    "\\end{equation}"
   ]
  },
  {
   "cell_type": "code",
   "execution_count": 22,
   "metadata": {
    "id": "cOem1EjQkq_H"
   },
   "outputs": [],
   "source": [
    "from matplotlib import pyplot as plt\n",
    "\n",
    "# Do not change the code in this cell\n",
    "true_slope = 15\n",
    "true_intercept = 2.4\n",
    "input_var = np.arange(0.0,100.0)\n",
    "output_var = true_slope * input_var + true_intercept + 300.0 * np.random.rand(len(input_var))"
   ]
  },
  {
   "cell_type": "code",
   "execution_count": 23,
   "metadata": {
    "colab": {
     "base_uri": "https://localhost:8080/",
     "height": 17
    },
    "executionInfo": {
     "elapsed": 147,
     "status": "ok",
     "timestamp": 1630902228487,
     "user": {
      "displayName": "Praguna Singh",
      "photoUrl": "https://lh3.googleusercontent.com/a-/AOh14GheDZgFohozb1D4tdpw7nC3gfdiGtrrgzrUZufzqA=s64",
      "userId": "14769753629771591406"
     },
     "user_tz": 240
    },
    "id": "SNvDqYEykq_H",
    "outputId": "c7f53823-73d9-473f-9e28-944f1f09a415",
    "scrolled": false
   },
   "outputs": [
    {
     "data": {
      "text/plain": "<Figure size 640x480 with 1 Axes>",
      "image/png": "[encoded data removed]"
     },
     "metadata": {},
     "output_type": "display_data"
    }
   ],
   "source": [
    "# Do not change the code in this cell\n",
    "plt.figure()\n",
    "plt.scatter(input_var, output_var)\n",
    "plt.xlabel('x')\n",
    "plt.ylabel('y')\n",
    "plt.show()"
   ]
  },
  {
   "cell_type": "code",
   "execution_count": 24,
   "metadata": {
    "id": "XgNhbpEmkq_I"
   },
   "outputs": [],
   "source": [
    "def compute_cost(ip, op, params):\n",
    "    \"\"\"\n",
    "    Cost function in linear regression where the cost is calculated\n",
    "    ip: input variables\n",
    "    op: output variables\n",
    "    params: corresponding parameters\n",
    "    Returns cost\n",
    "    \"\"\"\n",
    "    num_samples = len(ip)\n",
    "    cost_sum = 0.0\n",
    "    for x,y in zip(ip, op):\n",
    "        y_hat = np.dot(params, np.array([1.0, x]))\n",
    "        cost_sum += (y_hat - y) ** 2\n",
    "    \n",
    "    cost = cost_sum / num_samples\n",
    "    \n",
    "    return cost"
   ]
  },
  {
   "cell_type": "markdown",
   "metadata": {},
   "source": [
    "### Q2.1 Implement Linear Regression using Batch Gradient Descent from scratch.  (15 points)"
   ]
  },
  {
   "cell_type": "markdown",
   "metadata": {
    "id": "7Ao7aYu9kq_I"
   },
   "source": [
    "\n",
    "### Batch gradient descent\n",
    "Algorithm can be given as follows:\n",
    "\n",
    "```for j in 0 -> max_iteration: \n",
    "    for i in 0 -> m: \n",
    "        theta += (alpha / m) * (y[i] - h(x[i])) * x_bar\n",
    "```"
   ]
  },
  {
   "cell_type": "code",
   "execution_count": 25,
   "metadata": {
    "id": "f0z876gDkq_I"
   },
   "outputs": [],
   "source": [
    "def linear_regression_using_batch_gradient_descent(ip, op, params, alpha, max_iter):\n",
    "    \"\"\"\n",
    "    Compute the params for linear regression using batch gradient descent\n",
    "    ip: input variables\n",
    "    op: output variables\n",
    "    params: corresponding parameters\n",
    "    alpha: learning rate\n",
    "    max_iter: maximum number of iterations\n",
    "    Returns parameters, cost, params_store\n",
    "    \"\"\" \n",
    "    # initialize iteration, number of samples, cost and parameter array\n",
    "    iteration = 0\n",
    "    num_samples = len(ip)\n",
    "    cost = np.zeros(max_iter)\n",
    "    params_store = np.zeros([2, max_iter])\n",
    "    \n",
    "    # Compute the cost and store the params for the corresponding cost\n",
    "    while iteration < max_iter:\n",
    "        cost[iteration] = compute_cost(ip, op, params)\n",
    "        params_store[:, iteration] = params\n",
    "        \n",
    "        print('--------------------------')\n",
    "        print(f'iteration: {iteration}')\n",
    "        print(f'cost: {cost[iteration]}')\n",
    "\n",
    "        if cost[iteration] <= 1.5:\n",
    "            return params, cost, params_store\n",
    "\n",
    "        gradient = 0\n",
    "        # Apply batch gradient descent\n",
    "        # Update the weights by average of the gradients in each iteration\n",
    "        for x, y in zip(ip, op):\n",
    "            gradient += (y - np.dot(params, np.array([1.0, x]))) * np.array([1.0, x])\n",
    "        params += alpha / num_samples * gradient / num_samples\n",
    "\n",
    "        iteration += 1\n",
    "    \n",
    "    return params, cost, params_store"
   ]
  },
  {
   "cell_type": "code",
   "execution_count": 26,
   "metadata": {
    "id": "qbjhyZ71kq_I"
   },
   "outputs": [
    {
     "name": "stdout",
     "output_type": "stream",
     "text": [
      "--------------------------\n",
      "iteration: 0\n",
      "cost: 12259916.952539304\n",
      "--------------------------\n",
      "iteration: 1\n",
      "cost: 11335163.000006367\n",
      "--------------------------\n",
      "iteration: 2\n",
      "cost: 10480221.428331155\n",
      "--------------------------\n",
      "iteration: 3\n",
      "cost: 9689821.896554872\n",
      "--------------------------\n",
      "iteration: 4\n",
      "cost: 8959091.937183056\n",
      "--------------------------\n",
      "iteration: 5\n",
      "cost: 8283526.919553174\n",
      "--------------------------\n",
      "iteration: 6\n",
      "cost: 7658962.280755648\n",
      "--------------------------\n",
      "iteration: 7\n",
      "cost: 7081547.85292382\n",
      "--------------------------\n",
      "iteration: 8\n",
      "cost: 6547724.128632023\n",
      "--------------------------\n",
      "iteration: 9\n",
      "cost: 6054200.318088165\n",
      "--------------------------\n",
      "iteration: 10\n",
      "cost: 5597934.062853085\n",
      "--------------------------\n",
      "iteration: 11\n",
      "cost: 5176112.681030618\n",
      "--------------------------\n",
      "iteration: 12\n",
      "cost: 4786135.828313127\n",
      "--------------------------\n",
      "iteration: 13\n",
      "cost: 4425599.467995489\n",
      "--------------------------\n",
      "iteration: 14\n",
      "cost: 4092281.0511396127\n",
      "--------------------------\n",
      "iteration: 15\n",
      "cost: 3784125.8155317353\n",
      "--------------------------\n",
      "iteration: 16\n",
      "cost: 3499234.1189715066\n",
      "--------------------------\n",
      "iteration: 17\n",
      "cost: 3235849.7288081953\n",
      "--------------------------\n",
      "iteration: 18\n",
      "cost: 2992348.995534028\n",
      "--------------------------\n",
      "iteration: 19\n",
      "cost: 2767230.8436946934\n",
      "--------------------------\n",
      "iteration: 20\n",
      "cost: 2559107.5184152974\n",
      "--------------------------\n",
      "iteration: 21\n",
      "cost: 2366696.030498155\n",
      "--------------------------\n",
      "iteration: 22\n",
      "cost: 2188810.2473551715\n",
      "--------------------------\n",
      "iteration: 23\n",
      "cost: 2024353.5810189315\n",
      "--------------------------\n",
      "iteration: 24\n",
      "cost: 1872312.2281571806\n",
      "--------------------------\n",
      "iteration: 25\n",
      "cost: 1731748.9204184334\n",
      "--------------------------\n",
      "iteration: 26\n",
      "cost: 1601797.146582263\n",
      "--------------------------\n",
      "iteration: 27\n",
      "cost: 1481655.810896393\n",
      "--------------------------\n",
      "iteration: 28\n",
      "cost: 1370584.2946715425\n",
      "--------------------------\n",
      "iteration: 29\n",
      "cost: 1267897.89069094\n",
      "--------------------------\n",
      "iteration: 30\n",
      "cost: 1172963.5822896154\n",
      "--------------------------\n",
      "iteration: 31\n",
      "cost: 1085196.1410833613\n",
      "--------------------------\n",
      "iteration: 32\n",
      "cost: 1004054.5192915469\n",
      "--------------------------\n",
      "iteration: 33\n",
      "cost: 929038.514414049\n",
      "--------------------------\n",
      "iteration: 34\n",
      "cost: 859685.6857014748\n",
      "--------------------------\n",
      "iteration: 35\n",
      "cost: 795568.5034100853\n",
      "--------------------------\n",
      "iteration: 36\n",
      "cost: 736291.7132677941\n",
      "--------------------------\n",
      "iteration: 37\n",
      "cost: 681489.8999043497\n",
      "--------------------------\n",
      "iteration: 38\n",
      "cost: 630825.2342253046\n",
      "--------------------------\n",
      "iteration: 39\n",
      "cost: 583985.3908433133\n",
      "--------------------------\n",
      "iteration: 40\n",
      "cost: 540681.6227286401\n",
      "--------------------------\n",
      "iteration: 41\n",
      "cost: 500646.98120993155\n",
      "--------------------------\n",
      "iteration: 42\n",
      "cost: 463634.6703523445\n",
      "--------------------------\n",
      "iteration: 43\n",
      "cost: 429416.52556848293\n",
      "--------------------------\n",
      "iteration: 44\n",
      "cost: 397781.60708344815\n",
      "--------------------------\n",
      "iteration: 45\n",
      "cost: 368534.8995833296\n",
      "--------------------------\n",
      "iteration: 46\n",
      "cost: 341496.11003103864\n",
      "--------------------------\n",
      "iteration: 47\n",
      "cost: 316498.5562385392\n",
      "--------------------------\n",
      "iteration: 48\n",
      "cost: 293388.13934401853\n",
      "--------------------------\n",
      "iteration: 49\n",
      "cost: 272022.39385976\n",
      "--------------------------\n",
      "iteration: 50\n",
      "cost: 252269.6094346859\n",
      "--------------------------\n",
      "iteration: 51\n",
      "cost: 234008.01891761212\n",
      "--------------------------\n",
      "iteration: 52\n",
      "cost: 217125.047715987\n",
      "--------------------------\n",
      "iteration: 53\n",
      "cost: 201516.61982273636\n",
      "--------------------------\n",
      "iteration: 54\n",
      "cost: 187086.51623317017\n",
      "--------------------------\n",
      "iteration: 55\n",
      "cost: 173745.78179687823\n",
      "--------------------------\n",
      "iteration: 56\n",
      "cost: 161412.17684810952\n",
      "--------------------------\n",
      "iteration: 57\n",
      "cost: 150009.67023418093\n",
      "--------------------------\n",
      "iteration: 58\n",
      "cost: 139467.97061665455\n",
      "--------------------------\n",
      "iteration: 59\n",
      "cost: 129722.09315596052\n",
      "--------------------------\n",
      "iteration: 60\n",
      "cost: 120711.95890826666\n",
      "--------------------------\n",
      "iteration: 61\n",
      "cost: 112382.02446505078\n",
      "--------------------------\n",
      "iteration: 62\n",
      "cost: 104680.93955226515\n",
      "--------------------------\n",
      "iteration: 63\n",
      "cost: 97561.2304783424\n",
      "--------------------------\n",
      "iteration: 64\n",
      "cost: 90979.00747963841\n",
      "--------------------------\n",
      "iteration: 65\n",
      "cost: 84893.69415922361\n",
      "--------------------------\n",
      "iteration: 66\n",
      "cost: 79267.77735113222\n",
      "--------------------------\n",
      "iteration: 67\n",
      "cost: 74066.57586809139\n",
      "--------------------------\n",
      "iteration: 68\n",
      "cost: 69258.02670716074\n",
      "--------------------------\n",
      "iteration: 69\n",
      "cost: 64812.487395334174\n",
      "--------------------------\n",
      "iteration: 70\n",
      "cost: 60702.553256651096\n",
      "--------------------------\n",
      "iteration: 71\n",
      "cost: 56902.88847434738\n",
      "--------------------------\n",
      "iteration: 72\n",
      "cost: 53390.0699066198\n",
      "--------------------------\n",
      "iteration: 73\n",
      "cost: 50142.4426931948\n",
      "--------------------------\n",
      "iteration: 74\n",
      "cost: 47139.98676258062\n",
      "--------------------------\n",
      "iteration: 75\n",
      "cost: 44364.19341707779\n",
      "--------------------------\n",
      "iteration: 76\n",
      "cost: 41797.95123474712\n",
      "--------------------------\n",
      "iteration: 77\n",
      "cost: 39425.44058497409\n",
      "--------------------------\n",
      "iteration: 78\n",
      "cost: 37232.03610736002\n",
      "--------------------------\n",
      "iteration: 79\n",
      "cost: 35204.216552768616\n",
      "--------------------------\n",
      "iteration: 80\n",
      "cost: 33329.48143073502\n",
      "--------------------------\n",
      "iteration: 81\n",
      "cost: 31596.273949406062\n",
      "--------------------------\n",
      "iteration: 82\n",
      "cost: 29993.9097729703\n",
      "--------------------------\n",
      "iteration: 83\n",
      "cost: 28512.511157397665\n",
      "--------------------------\n",
      "iteration: 84\n",
      "cost: 27142.946058465244\n",
      "--------------------------\n",
      "iteration: 85\n",
      "cost: 25876.771836696407\n",
      "--------------------------\n",
      "iteration: 86\n",
      "cost: 24706.183212178414\n",
      "--------------------------\n",
      "iteration: 87\n",
      "cost: 23623.964148423976\n",
      "--------------------------\n",
      "iteration: 88\n",
      "cost: 22623.443368660148\n",
      "--------------------------\n",
      "iteration: 89\n",
      "cost: 21698.453230323074\n",
      "--------------------------\n",
      "iteration: 90\n",
      "cost: 20843.291704237636\n",
      "--------------------------\n",
      "iteration: 91\n",
      "cost: 20052.687224100013\n",
      "--------------------------\n",
      "iteration: 92\n",
      "cost: 19321.76618957543\n",
      "--------------------------\n",
      "iteration: 93\n",
      "cost: 18646.022922682554\n",
      "--------------------------\n",
      "iteration: 94\n",
      "cost: 18021.29189225813\n",
      "--------------------------\n",
      "iteration: 95\n",
      "cost: 17443.72203527817\n",
      "--------------------------\n",
      "iteration: 96\n",
      "cost: 16909.75301673768\n",
      "--------------------------\n",
      "iteration: 97\n",
      "cost: 16416.093281741636\n",
      "--------------------------\n",
      "iteration: 98\n",
      "cost: 15959.699764507843\n",
      "--------------------------\n",
      "iteration: 99\n",
      "cost: 15537.759129196438\n"
     ]
    }
   ],
   "source": [
    "# Do not change the code in this cell\n",
    "# Training the model\n",
    "from sklearn.model_selection import train_test_split\n",
    "x_train, x_test, y_train, y_test = train_test_split(input_var, output_var, test_size=0.20)\n",
    "\n",
    "params_0 = np.array([20.0, 80.0])\n",
    "\n",
    "alpha_batch = 1e-3\n",
    "max_iter = 100\n",
    "params_hat_batch, cost_batch, params_store_batch =\\\n",
    "    linear_regression_using_batch_gradient_descent(x_train, y_train, params_0, alpha_batch, max_iter)"
   ]
  },
  {
   "cell_type": "markdown",
   "metadata": {},
   "source": [
    "### Q2.2 Implement Stochastic Gradient Descent from scratch. (15 points)"
   ]
  },
  {
   "cell_type": "markdown",
   "metadata": {
    "id": "lEIJL-WGkq_I"
   },
   "source": [
    "### Stochastic Gradient Descent\n",
    "Algorithm can be given as follows:\n",
    "```shuffle(x, y)\n",
    "for i in 0 -> m:\n",
    "    theta += (alpha / m) * (y[i] - h(x[i])) * x_bar  \n",
    "```"
   ]
  },
  {
   "cell_type": "code",
   "execution_count": 27,
   "metadata": {
    "id": "Gx9LN0wQkq_I"
   },
   "outputs": [],
   "source": [
    "def lin_reg_stoch_gradient_descent(ip, op, params, alpha):\n",
    "    \"\"\"\n",
    "    Compute the params for linear regression using stochastic gradient descent\n",
    "    ip: input variables\n",
    "    op: output variables\n",
    "    params: corresponding parameters\n",
    "    alpha: learning rate\n",
    "    Returns parameters, cost, params_store\n",
    "    \"\"\"\n",
    "    \n",
    "    # initialize iteration, number of samples, cost and parameter array\n",
    "    num_samples = len(ip)\n",
    "    cost = np.zeros(num_samples)\n",
    "    params_store = np.zeros([2, num_samples])\n",
    "    \n",
    "    i = 0\n",
    "    # Compute the cost and store the params for the corresponding cost\n",
    "    for x,y in zip(ip, op):\n",
    "        cost[i] = compute_cost(input_var, output_var, params)\n",
    "        params_store[:, i] = params\n",
    "        \n",
    "        print('--------------------------')\n",
    "        print(f'iteration: {i}')\n",
    "        print(f'cost: {cost[i]}')\n",
    "        \n",
    "        # Apply stochastic gradient descent\n",
    "        params += alpha / num_samples * (np.array([1.0, x]) * (y - np.dot(params, np.array([1.0, x]))))\n",
    "        i += 1\n",
    "\n",
    "            \n",
    "    return params, cost, params_store"
   ]
  },
  {
   "cell_type": "code",
   "execution_count": 28,
   "metadata": {
    "id": "HivE1gVkkq_J"
   },
   "outputs": [
    {
     "name": "stdout",
     "output_type": "stream",
     "text": [
      "--------------------------\n",
      "iteration: 0\n",
      "cost: 13074391.754427891\n",
      "--------------------------\n",
      "iteration: 1\n",
      "cost: 11571666.833268369\n",
      "--------------------------\n",
      "iteration: 2\n",
      "cost: 10933593.692614788\n",
      "--------------------------\n",
      "iteration: 3\n",
      "cost: 9170261.531118503\n",
      "--------------------------\n",
      "iteration: 4\n",
      "cost: 9121239.878560154\n",
      "--------------------------\n",
      "iteration: 5\n",
      "cost: 8796033.94133106\n",
      "--------------------------\n",
      "iteration: 6\n",
      "cost: 8215149.106203932\n",
      "--------------------------\n",
      "iteration: 7\n",
      "cost: 6709342.437888732\n",
      "--------------------------\n",
      "iteration: 8\n",
      "cost: 6605485.924316788\n",
      "--------------------------\n",
      "iteration: 9\n",
      "cost: 6558896.826006211\n",
      "--------------------------\n",
      "iteration: 10\n",
      "cost: 6116319.307575772\n",
      "--------------------------\n",
      "iteration: 11\n",
      "cost: 5838970.6971985735\n",
      "--------------------------\n",
      "iteration: 12\n",
      "cost: 5541879.152795241\n",
      "--------------------------\n",
      "iteration: 13\n",
      "cost: 5380723.603521203\n",
      "--------------------------\n",
      "iteration: 14\n",
      "cost: 5380733.337435417\n",
      "--------------------------\n",
      "iteration: 15\n",
      "cost: 5241522.642450613\n",
      "--------------------------\n",
      "iteration: 16\n",
      "cost: 4361180.508698505\n",
      "--------------------------\n",
      "iteration: 17\n",
      "cost: 4253678.150132181\n",
      "--------------------------\n",
      "iteration: 18\n",
      "cost: 3658863.0594937997\n",
      "--------------------------\n",
      "iteration: 19\n",
      "cost: 3606516.3073635455\n",
      "--------------------------\n",
      "iteration: 20\n",
      "cost: 3583699.962558401\n",
      "--------------------------\n",
      "iteration: 21\n",
      "cost: 3354177.5830410426\n",
      "--------------------------\n",
      "iteration: 22\n",
      "cost: 3354320.2809681552\n",
      "--------------------------\n",
      "iteration: 23\n",
      "cost: 3072899.502027809\n",
      "--------------------------\n",
      "iteration: 24\n",
      "cost: 3072598.7097505243\n",
      "--------------------------\n",
      "iteration: 25\n",
      "cost: 2577161.043639653\n",
      "--------------------------\n",
      "iteration: 26\n",
      "cost: 2576458.323424904\n",
      "--------------------------\n",
      "iteration: 27\n",
      "cost: 2562849.0816228\n",
      "--------------------------\n",
      "iteration: 28\n",
      "cost: 2278940.6396793257\n",
      "--------------------------\n",
      "iteration: 29\n",
      "cost: 2248364.1772768013\n",
      "--------------------------\n",
      "iteration: 30\n",
      "cost: 1833974.1219855705\n",
      "--------------------------\n",
      "iteration: 31\n",
      "cost: 1765674.5780738557\n",
      "--------------------------\n",
      "iteration: 32\n",
      "cost: 1629746.7235901135\n",
      "--------------------------\n",
      "iteration: 33\n",
      "cost: 1281870.374637281\n",
      "--------------------------\n",
      "iteration: 34\n",
      "cost: 1077562.3754472937\n",
      "--------------------------\n",
      "iteration: 35\n",
      "cost: 1045137.7973255849\n",
      "--------------------------\n",
      "iteration: 36\n",
      "cost: 1019601.634270199\n",
      "--------------------------\n",
      "iteration: 37\n",
      "cost: 953869.9222328945\n",
      "--------------------------\n",
      "iteration: 38\n",
      "cost: 828403.8264719847\n",
      "--------------------------\n",
      "iteration: 39\n",
      "cost: 766439.5419668275\n",
      "--------------------------\n",
      "iteration: 40\n",
      "cost: 747206.3071028828\n",
      "--------------------------\n",
      "iteration: 41\n",
      "cost: 740868.532595348\n",
      "--------------------------\n",
      "iteration: 42\n",
      "cost: 716399.0847334248\n",
      "--------------------------\n",
      "iteration: 43\n",
      "cost: 685056.9123214169\n",
      "--------------------------\n",
      "iteration: 44\n",
      "cost: 684852.7676296895\n",
      "--------------------------\n",
      "iteration: 45\n",
      "cost: 669971.2455020003\n",
      "--------------------------\n",
      "iteration: 46\n",
      "cost: 610184.7448844434\n",
      "--------------------------\n",
      "iteration: 47\n",
      "cost: 610154.158246325\n",
      "--------------------------\n",
      "iteration: 48\n",
      "cost: 493848.3715384456\n",
      "--------------------------\n",
      "iteration: 49\n",
      "cost: 424892.10713721754\n",
      "--------------------------\n",
      "iteration: 50\n",
      "cost: 375592.60354806995\n",
      "--------------------------\n",
      "iteration: 51\n",
      "cost: 375816.19591132016\n",
      "--------------------------\n",
      "iteration: 52\n",
      "cost: 326422.38506560086\n",
      "--------------------------\n",
      "iteration: 53\n",
      "cost: 323234.64309336984\n",
      "--------------------------\n",
      "iteration: 54\n",
      "cost: 323343.1786493108\n",
      "--------------------------\n",
      "iteration: 55\n",
      "cost: 293718.62497105164\n",
      "--------------------------\n",
      "iteration: 56\n",
      "cost: 294685.26676769694\n",
      "--------------------------\n",
      "iteration: 57\n",
      "cost: 282903.8991410005\n",
      "--------------------------\n",
      "iteration: 58\n",
      "cost: 270126.581236627\n",
      "--------------------------\n",
      "iteration: 59\n",
      "cost: 224774.88057815484\n",
      "--------------------------\n",
      "iteration: 60\n",
      "cost: 186355.37940898724\n",
      "--------------------------\n",
      "iteration: 61\n",
      "cost: 186362.39812152274\n",
      "--------------------------\n",
      "iteration: 62\n",
      "cost: 184147.42143852316\n",
      "--------------------------\n",
      "iteration: 63\n",
      "cost: 163952.43087195806\n",
      "--------------------------\n",
      "iteration: 64\n",
      "cost: 164335.07411197142\n",
      "--------------------------\n",
      "iteration: 65\n",
      "cost: 123823.3133561023\n",
      "--------------------------\n",
      "iteration: 66\n",
      "cost: 117191.75650055593\n",
      "--------------------------\n",
      "iteration: 67\n",
      "cost: 99565.31657711038\n",
      "--------------------------\n",
      "iteration: 68\n",
      "cost: 82235.7683660587\n",
      "--------------------------\n",
      "iteration: 69\n",
      "cost: 70633.0435864303\n",
      "--------------------------\n",
      "iteration: 70\n",
      "cost: 58813.46961770941\n",
      "--------------------------\n",
      "iteration: 71\n",
      "cost: 53437.89915019546\n",
      "--------------------------\n",
      "iteration: 72\n",
      "cost: 49758.63881423039\n",
      "--------------------------\n",
      "iteration: 73\n",
      "cost: 47012.480575452464\n",
      "--------------------------\n",
      "iteration: 74\n",
      "cost: 47084.4478047705\n",
      "--------------------------\n",
      "iteration: 75\n",
      "cost: 46832.24963619699\n",
      "--------------------------\n",
      "iteration: 76\n",
      "cost: 34766.21679387902\n",
      "--------------------------\n",
      "iteration: 77\n",
      "cost: 34705.67005381091\n",
      "--------------------------\n",
      "iteration: 78\n",
      "cost: 34001.9035280607\n",
      "--------------------------\n",
      "iteration: 79\n",
      "cost: 27669.237228106558\n"
     ]
    }
   ],
   "source": [
    "# Do not change the code in this cell\n",
    "alpha = 1e-3\n",
    "params_0 = np.array([20.0, 80.0])\n",
    "params_hat, cost, params_store =\\\n",
    "lin_reg_stoch_gradient_descent(x_train, y_train, params_0, alpha)"
   ]
  },
  {
   "cell_type": "markdown",
   "metadata": {},
   "source": [
    "### Q2.3 Calculate Root Mean Square error in batch gradient descent algorithm and stochastic gradient descent algorithm (5 points)"
   ]
  },
  {
   "cell_type": "code",
   "execution_count": 29,
   "metadata": {},
   "outputs": [
    {
     "name": "stdout",
     "output_type": "stream",
     "text": [
      "RMSE of BGD:  124.65054805012467\n",
      "RMSE of SGD:  160.31708657808284\n"
     ]
    }
   ],
   "source": [
    "# Calculate Root Mean Square error in batch gradient descent algorithm and stochastic gradient descent algorithm\n",
    "batch_ss = 0\n",
    "for x, y in zip(x_train, y_train):\n",
    "    y_pred = np.dot(params_store_batch[:, -1], np.array([1.0, x]))\n",
    "    batch_ss += (y_pred - y) ** 2\n",
    "RMSE_batch = (batch_ss / len(x_train)) ** 0.5\n",
    "print('RMSE of BGD: ', RMSE_batch)\n",
    "stochastic_ss = 0\n",
    "for x, y in zip(x_train, y_train):\n",
    "    y_pred = np.dot(params_store[:, -1], np.array([1.0, x]))\n",
    "    stochastic_ss += (y_pred - y) ** 2\n",
    "RMSE_stochastic = (stochastic_ss / len(x_train)) ** 0.5\n",
    "print('RMSE of SGD: ', RMSE_stochastic)"
   ]
  },
  {
   "cell_type": "code",
   "execution_count": 30,
   "metadata": {
    "colab": {
     "base_uri": "https://localhost:8080/",
     "height": 51
    },
    "executionInfo": {
     "elapsed": 152,
     "status": "ok",
     "timestamp": 1630902274461,
     "user": {
      "displayName": "Praguna Singh",
      "photoUrl": "https://lh3.googleusercontent.com/a-/AOh14GheDZgFohozb1D4tdpw7nC3gfdiGtrrgzrUZufzqA=s64",
      "userId": "14769753629771591406"
     },
     "user_tz": 240
    },
    "id": "930loAL6kq_L",
    "outputId": "e807576e-9852-4857-9a29-d367f2e0b26b"
   },
   "outputs": [
    {
     "data": {
      "text/plain": "<Figure size 640x480 with 1 Axes>",
      "image/png": "[encoded data removed]"
     },
     "metadata": {},
     "output_type": "display_data"
    },
    {
     "name": "stdout",
     "output_type": "stream",
     "text": [
      "min cost with BGD: 15537.759129196438\n",
      "min cost with SGD: 27669.237228106558\n"
     ]
    }
   ],
   "source": [
    "# Do not change the code in this cell\n",
    "plt.figure()\n",
    "plt.plot(np.arange(max_iter), cost_batch, 'r', label='batch')\n",
    "plt.plot(np.arange(len(cost)), cost, 'g', label='stochastic')\n",
    "plt.xlabel('iteration')\n",
    "plt.ylabel('normalized cost')\n",
    "plt.legend()\n",
    "plt.show()\n",
    "print(f'min cost with BGD: {np.min(cost_batch)}')\n",
    "print(f'min cost with SGD: {np.min(cost)}')"
   ]
  },
  {
   "cell_type": "markdown",
   "metadata": {
    "id": "Lrpju6Kwkq_N"
   },
   "source": [
    "### Q2.4 Which linear regression model do you think works best for this data? Explain in brief. (5 points)"
   ]
  },
  {
   "cell_type": "markdown",
   "source": [
    "Batch Gradient Descent performs better on the given dataset, which has a lower root mean squared error and cost.\n",
    "Batch Gradient Descent is great for convex or relatively smooth error manifolds. In this case, we move somewhat directly towards an optimum solution.\n",
    "The graph of cost vs epochs is also quite smooth because we are averaging over all the gradients of training data for a single step. The cost keeps on decreasing over the epochs.\n",
    "Also, the batch gradient descent are its computational efficiency, it produces a stable error gradient and a stable convergence, which typically reaches the optimal or convergence faster."
   ],
   "metadata": {
    "collapsed": false
   }
  },
  {
   "cell_type": "markdown",
   "metadata": {
    "id": "wgbTux39kq_N"
   },
   "source": []
  },
  {
   "cell_type": "markdown",
   "metadata": {
    "id": "_p02LYZrkq_N"
   },
   "source": [
    "### Q3. Linear Regression Analytical Problem (10 points)\n",
    "Consider the following training data.\n",
    "\n",
    "| X1 | X2 | Y |\n",
    "| -- | -- | -- |\n",
    "| 0 | 0 | 0 |\n",
    "| 0 | 1 | 1.5 |\n",
    "| 1 | 0 | 2 |\n",
    "| 1 | 1 | 2.5 |\n",
    "Suppose the data comes from a model y = $θ_{0}$ +$θ_{1}$x1 +$θ_{2}$x2 for unknown constants $θ_{0}$,$θ_{1}$,$θ_{2}$. Use least squares linear regression to find an estimate of $θ_{0}$,$θ_{1}$,$θ_{2}$."
   ]
  },
  {
   "cell_type": "markdown",
   "source": [
    "y_hat = h(x) = w0x0 + w1x1 + w2x2\n",
    "\n",
    "initialize w0 = 0, w1 = 0, w2 = 0\n",
    "learning rate = 0.1\n",
    "stop when SSE < 1.5"
   ],
   "metadata": {
    "collapsed": false
   }
  },
  {
   "cell_type": "markdown",
   "source": [
    "Iteration 1:"
   ],
   "metadata": {
    "collapsed": false
   }
  },
  {
   "cell_type": "code",
   "execution_count": 31,
   "outputs": [
    {
     "name": "stdout",
     "output_type": "stream",
     "text": [
      "SSE:  12.5\n",
      "SSE > 1.2\n"
     ]
    }
   ],
   "source": [
    "y_hat0 = 0 + 0 * 0 + 0 * 0\n",
    "y_hat1 = 0 + 0 * 0 + 0 * 1\n",
    "y_hat2 = 0 + 0 * 1 + 0 * 0\n",
    "y_hat3 = 0 + 0 * 1 + 0 * 1\n",
    "SSE = (y_hat0 - 0)**2 + (y_hat1 - 1.5)**2 + (y_hat2 - 2)**2 + (y_hat3 - 2.5)**2\n",
    "print('SSE: ', SSE)\n",
    "print('SSE > 1.2') if SSE > 1.2 else print('Stop')"
   ],
   "metadata": {
    "collapsed": false
   }
  },
  {
   "cell_type": "code",
   "execution_count": 32,
   "outputs": [
    {
     "name": "stdout",
     "output_type": "stream",
     "text": [
      "w0 = 1.15, w1 = 1.1125, w2 = 1.1\n"
     ]
    }
   ],
   "source": [
    "s0 = (y_hat0 - 0) + (y_hat1 - 1.5) + (y_hat2 - 2) + (y_hat3 - 2.5)\n",
    "s1 = (y_hat0 - 0) * 0 + (y_hat1 - 1.5) * 0 + (y_hat2 - 2) * 1 + (y_hat3 - 2.5) * 1\n",
    "s2 = (y_hat0 - 0) * 0 + (y_hat1 - 1.5) * 1 + (y_hat2 - 2) * 0 + (y_hat3 - 2.5) * 1\n",
    "w0 = 1 - 0.1 / 4 * s0\n",
    "w1 = 1 - 0.1 / 4 * s1\n",
    "w2 = 1 - 0.1 / 4 * s2\n",
    "print(f'w0 = {w0}, w1 = {w1}, w2 = {w2}')"
   ],
   "metadata": {
    "collapsed": false
   }
  },
  {
   "cell_type": "markdown",
   "source": [
    "Iteration 2:"
   ],
   "metadata": {
    "collapsed": false
   }
  },
  {
   "cell_type": "code",
   "execution_count": 33,
   "outputs": [
    {
     "name": "stdout",
     "output_type": "stream",
     "text": [
      "SSE:  2.6978125000000004\n",
      "SSE > 1.2\n"
     ]
    }
   ],
   "source": [
    "y_hat0 = w0 + w1 * 0 + w2 * 0\n",
    "y_hat1 = w0 + w1 * 0 + w2 * 1\n",
    "y_hat2 = w0 + w1 * 1 + w2 * 0\n",
    "y_hat3 = w0 + w1 * 1 + w2 * 1\n",
    "SSE = (y_hat0 - 0)**2 + (y_hat1 - 1.5)**2 + (y_hat2 - 2)**2 + (y_hat3 - 2.5)**2\n",
    "print('SSE: ', SSE)\n",
    "print('SSE > 1.2') if SSE > 1.2 else print('Stop')"
   ],
   "metadata": {
    "collapsed": false
   }
  },
  {
   "cell_type": "code",
   "execution_count": 34,
   "outputs": [
    {
     "name": "stdout",
     "output_type": "stream",
     "text": [
      "w0 = 0.924375, w1 = 0.971875, w2 = 0.9596875\n"
     ]
    }
   ],
   "source": [
    "s0 = (y_hat0 - 0) + (y_hat1 - 1.5) + (y_hat2 - 2) + (y_hat3 - 2.5)\n",
    "s1 = (y_hat0 - 0) * 0 + (y_hat1 - 1.5) * 0 + (y_hat2 - 2) * 1 + (y_hat3 - 2.5) * 1\n",
    "s2 = (y_hat0 - 0) * 0 + (y_hat1 - 1.5) * 1 + (y_hat2 - 2) * 0 + (y_hat3 - 2.5) * 1\n",
    "w0 = 1 - 0.1 / 4 * s0\n",
    "w1 = 1 - 0.1 / 4 * s1\n",
    "w2 = 1 - 0.1 / 4 * s2\n",
    "print(f'w0 = {w0}, w1 = {w1}, w2 = {w2}')"
   ],
   "metadata": {
    "collapsed": false
   }
  },
  {
   "cell_type": "markdown",
   "source": [
    "Iteration 3:"
   ],
   "metadata": {
    "collapsed": false
   }
  },
  {
   "cell_type": "code",
   "execution_count": 35,
   "outputs": [
    {
     "name": "stdout",
     "output_type": "stream",
     "text": [
      "SSE:  1.1394287109374999\n",
      "Converged: y_hat = 0.924375x0 + 0.971875x1 + 0.9596875x2\n"
     ]
    }
   ],
   "source": [
    "y_hat0 = w0 + w1 * 0 + w2 * 0\n",
    "y_hat1 = w0 + w1 * 0 + w2 * 1\n",
    "y_hat2 = w0 + w1 * 1 + w2 * 0\n",
    "y_hat3 = w0 + w1 * 1 + w2 * 1\n",
    "SSE = (y_hat0 - 0)**2 + (y_hat1 - 1.5)**2 + (y_hat2 - 2)**2 + (y_hat3 - 2.5)**2\n",
    "print('SSE: ', SSE)\n",
    "print('SSE > 1.2') if SSE > 1.2 else print(f'Converged: y_hat = {w0}x0 + {w1}x1 + {w2}x2')"
   ],
   "metadata": {
    "collapsed": false
   }
  }
 ],
 "metadata": {
  "colab": {
   "collapsed_sections": [],
   "name": "assignment-1-solution.ipynb",
   "provenance": []
  },
  "kernelspec": {
   "display_name": "Python 3",
   "language": "python",
   "name": "python3"
  },
  "language_info": {
   "codemirror_mode": {
    "name": "ipython",
    "version": 3
   },
   "file_extension": ".py",
   "mimetype": "text/x-python",
   "name": "python",
   "nbconvert_exporter": "python",
   "pygments_lexer": "ipython3",
   "version": "3.8.8"
  }
 },
 "nbformat": 4,
 "nbformat_minor": 1
}
