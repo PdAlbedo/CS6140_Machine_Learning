{
 "cells": [
  {
   "cell_type": "markdown",
   "metadata": {
    "id": "lH1avDQgkq-5"
   },
   "source": [
    "# CS 6140 Machine Learning: Assignment - 1 (Total Points: 100)\n",
    "## Prof. Ahmad Uzair"
   ]
  },
  {
   "cell_type": "markdown",
   "metadata": {
    "id": "_PFpvDelkq-6"
   },
   "source": [
    "### Q1. Decision Tree Classifier (50 points)"
   ]
  },
  {
   "cell_type": "code",
   "execution_count": 581,
   "outputs": [],
   "source": [
    "import math\n",
    "import numpy as np\n",
    "import pandas as pd\n",
    "from sklearn.model_selection import train_test_split\n",
    "from sklearn.metrics import accuracy_score"
   ],
   "metadata": {
    "collapsed": false
   }
  },
  {
   "cell_type": "code",
   "execution_count": 582,
   "outputs": [
    {
     "name": "stdout",
     "output_type": "stream",
     "text": [
      "Data shape:  (150, 5)\n"
     ]
    }
   ],
   "source": [
    "data = pd.read_csv('data.csv')\n",
    "print('Data shape: ', data.shape)\n",
    "\n",
    "X = data.iloc[:, :-1].values\n",
    "Y = data.iloc[:, -1].values.reshape(-1, 1)\n",
    "X_train, X_test, Y_train, Y_test = train_test_split(X, Y, train_size = 0.7, random_state = 88, shuffle = True)"
   ],
   "metadata": {
    "collapsed": false
   }
  },
  {
   "cell_type": "markdown",
   "metadata": {
    "id": "JX03ez5ckq-7"
   },
   "source": [
    "### Q1.1 Growing Decision Trees from scratch (40 points)\n",
    "\n",
    "Decision Trees (DTs) are a non-parametric supervised learning method used for classification and regression. The goal of this question in the assignment is to create a model that predicts the value of a target variable by learning simple decision rules inferred from the data features. \n",
    "You must also print the Decision Tree. Use information gain based on entropy as the splitting measure. \n",
    "\n",
    "Use the data.csv dataset for this particular question. The dataset should be uploaded on Canvas with Assignment 1. Split the dataset into training and test data and calculate testing accuracy.\n",
    "\n"
   ]
  },
  {
   "cell_type": "code",
   "execution_count": 583,
   "outputs": [],
   "source": [
    "class Node:\n",
    "\n",
    "    def __init__(self, feature_index = None, threshold = None, left = None, right = None, info_gain = None, value = None):\n",
    "        # Start code here\n",
    "        # for decision node\n",
    "        self.feature_index = feature_index\n",
    "        self.threshold = threshold\n",
    "        self.left = left\n",
    "        self.right = right\n",
    "        self.info_gain = info_gain\n",
    "\n",
    "        # for leaf node\n",
    "        self.value = value\n",
    "    # End code here"
   ],
   "metadata": {
    "collapsed": false
   }
  },
  {
   "cell_type": "code",
   "execution_count": 584,
   "outputs": [],
   "source": [
    "class DecisionTreeClassifier:\n",
    "    def __init__(self, min_samples_split = 2, max_depth = 2):\n",
    "        # Initialize the root of the decision tree to traverse through the decision tree to None\n",
    "        self.root = None\n",
    "        # initialize the stopping conditions\n",
    "        self.min_samples_split = min_samples_split\n",
    "        self.max_depth = max_depth\n",
    "\n",
    "    def build_tree(self, dataset, curr_depth = 0):\n",
    "        \"\"\"\n",
    "        This will be a recursive function to build the decision tree.\n",
    "        dataset: The data that you will be using for your assignment\n",
    "        curr_depth: Current depth of the tree\n",
    "        Returns the leaf node\n",
    "        \"\"\"\n",
    "        # Separate the features and targets into two variables X and Y\n",
    "        X = dataset[:, :-1]\n",
    "        Y = dataset[:, -1]\n",
    "\n",
    "        # Extract the number of samples and number of features\n",
    "        num_samples = np.shape(X)[0]\n",
    "        num_features = np.shape(X)[1]\n",
    "\n",
    "        # split until stopping conditions are met\n",
    "        if num_samples >= self.min_samples_split and curr_depth <= self.max_depth:\n",
    "            best_split = self.get_best_split(dataset, num_samples, num_features)\n",
    "            # print(best_split)\n",
    "            dataset_left = self.build_tree(best_split['dataset_left'], curr_depth + 1)\n",
    "            dataset_right = self.build_tree(best_split['dataset_right'], curr_depth + 1)\n",
    "            return Node(best_split['feature_idx'], best_split['threshold'], dataset_left, dataset_right, best_split['ig'])\n",
    "\n",
    "        # compute leaf node\n",
    "        leaf_value = self.calculate_leaf_value(Y)\n",
    "\n",
    "        # return the leaf node\n",
    "        return Node(value = leaf_value)\n",
    "\n",
    "    def get_best_split(self, dataset, num_samples, num_features):\n",
    "        \"\"\"\n",
    "        Function to find out the best split\n",
    "        dataset: input data\n",
    "        num_samples: Number of samples present in the dataset\n",
    "        num_features: Number of features in the dataset\n",
    "        Returns the best split\n",
    "        \"\"\"\n",
    "\n",
    "        # dictionary to store the best split\n",
    "        best_split = {}\n",
    "        max_ig = float('-inf')\n",
    "\n",
    "        # loop over all the features in the data\n",
    "        for feature_idx in range(num_features):\n",
    "            feature_col = dataset[:, feature_idx]\n",
    "            for threshold in np.unique(feature_col):\n",
    "                dataset_left, dataset_right = self.split(dataset, feature_idx, threshold)\n",
    "                if len(dataset_left) > 0 and len(dataset_right) > 0:\n",
    "                    y_parent, y_left, y_right = dataset[:, -1], dataset_left[:, -1], dataset_right[:, -1]\n",
    "                    curr_ig = self.information_gain(y_parent, y_left, y_right)\n",
    "                    if curr_ig > max_ig:\n",
    "                        max_ig = curr_ig\n",
    "                        best_split['feature_idx'] = feature_idx\n",
    "                        best_split['threshold'] = threshold\n",
    "                        best_split['dataset_left'] = dataset_left\n",
    "                        best_split['dataset_right'] = dataset_right\n",
    "                        best_split['ig'] = max_ig\n",
    "\n",
    "        return best_split\n",
    "\n",
    "    def split(self, dataset, feature_index, threshold):\n",
    "        \"\"\"\n",
    "        Function to split the data to the left child and right child in the decision tree\n",
    "        dataset: input data\n",
    "        feature_index: feature index used to locate the index of the feature in a particular row in the dataset\n",
    "        threshold: threshold value based on which the split will be calculated\n",
    "        Returns the left and right data values from the dataset\n",
    "        \"\"\"\n",
    "        # Hint: Use list comprehension to distinguish which values would be present in left and right\n",
    "        # subtree on the basis of threshold\n",
    "        dataset_left = np.array([instance for instance in dataset if instance[feature_index] <= threshold])\n",
    "        dataset_right = np.array([instance for instance in dataset if instance[feature_index] > threshold])\n",
    "\n",
    "        return dataset_left, dataset_right\n",
    "\n",
    "    def information_gain(self, parent, l_child, r_child, mode=\"entropy\"):\n",
    "        \"\"\"\n",
    "        Function to calculate information gain. This function subtracts the combined information\n",
    "        of the child node from the parent node.\n",
    "        parent: value of parent node\n",
    "        l_child: value of left child node\n",
    "        r_child: value of right child node\n",
    "        mode: based on which information gain will be calculated either entropy/gini index\n",
    "        Returns the information gain\n",
    "        \"\"\"\n",
    "        perc_left = len(l_child) / len(parent)\n",
    "        perc_right = len(r_child / len(parent))\n",
    "        if mode == 'entropy':\n",
    "            gain = self.entropy(parent) - perc_left * self.entropy(l_child) - perc_right * self.entropy(r_child)\n",
    "        else:\n",
    "            gain = self.gini_index(parent) - perc_left * self.gini_index(l_child) - perc_right * self.gini_index(r_child)\n",
    "        return gain\n",
    "\n",
    "    def entropy(self, y):\n",
    "        \"\"\"\n",
    "        Function to calculate the entropy\n",
    "        y: target labels\n",
    "        Returns entropy\n",
    "        \"\"\"\n",
    "        # Get the number of categories of labels\n",
    "        labels = np.unique(y)\n",
    "        entropy = 0\n",
    "        for label in labels:\n",
    "            prob_label = len(y[y == label])/len(y)\n",
    "            entropy += -prob_label * np.log2(prob_label)\n",
    "\n",
    "        return entropy\n",
    "\n",
    "    def gini_index(self, y):\n",
    "        \"\"\"\n",
    "        Function to calculate gini index\n",
    "        y: target labels\n",
    "        Returns gini index\n",
    "        \"\"\"\n",
    "        labels = np.unique(y)\n",
    "        gini = 0\n",
    "        for label in labels:\n",
    "            prob_label = len(y[y == label])/len(y)\n",
    "            gini += prob_label * (1 - prob_label)\n",
    "\n",
    "        return gini\n",
    "\n",
    "    def calculate_leaf_value(self, Y):\n",
    "        \"\"\"\n",
    "        Function to compute the value of leaf node.Return the most occurring\n",
    "        element in Y. Hint: you can use lists\n",
    "        Y: target labels\n",
    "        Returns leaf node value\n",
    "        \"\"\"\n",
    "        return max(list(Y), key = list(Y).count)\n",
    "\n",
    "    def print_tree(self, tree=None, indent=\" \"):\n",
    "        \"\"\"\n",
    "        Function to print the tree. Use the pre-order traversal method to print the decision tree.\n",
    "        # Do not make any changes in this function\n",
    "        \"\"\"\n",
    "\n",
    "        if not tree:\n",
    "            tree = self.root\n",
    "\n",
    "        if tree.value is not None:\n",
    "            print(tree.value)\n",
    "\n",
    "        else:\n",
    "            print(\"X \" + str(tree.feature_index), \"<=\", tree.threshold, \"?\", tree.info_gain)\n",
    "            print(\"%sleft:\" % indent, end= \" \")\n",
    "            self.print_tree(tree.left, indent + indent)\n",
    "            print(\"%sright\" % indent, end= \" \")\n",
    "            self.print_tree(tree.right, indent + indent)\n",
    "\n",
    "    def fit(self, X, Y):\n",
    "        \"\"\"\n",
    "        Function to train the tree.\n",
    "        X: Features\n",
    "        Y: Target\n",
    "        \"\"\"\n",
    "        # Concatenate X, Y to create the dataset and call the build_tree function recursively\n",
    "        dataset = np.concatenate((X, Y), axis = 1)\n",
    "        self.root = self.build_tree(dataset)\n",
    "\n",
    "    def predict(self, X):\n",
    "        \"\"\"\n",
    "        Prediction function to calculate the all the predictions of the matrix of features\n",
    "        provided using make_predictions function\n",
    "        X: Matrix of features\n",
    "        Returns predictions\n",
    "        \"\"\"\n",
    "        predictions = [self.make_predictions(x, self.root) for x in X]\n",
    "        return predictions\n",
    "\n",
    "    def make_predictions(self, x, tree):\n",
    "        \"\"\"\n",
    "        Function to predict a single datapoint\n",
    "        \"\"\"\n",
    "        # return the value if the node is a leaf node\n",
    "        if tree.value is not None:\n",
    "            return tree.value\n",
    "        if x[tree.feature_index] >= tree.threshold:\n",
    "            return self.make_predictions(x, tree.right)\n",
    "        else:\n",
    "            return self.make_predictions(x, tree.left)"
   ],
   "metadata": {
    "collapsed": false
   }
  },
  {
   "cell_type": "code",
   "execution_count": 585,
   "outputs": [
    {
     "name": "stdout",
     "output_type": "stream",
     "text": [
      "Accuracy Score:  0.9333333333333333\n"
     ]
    }
   ],
   "source": [
    "DT_classifier_hand_write = DecisionTreeClassifier(2, 10)\n",
    "DT_classifier_hand_write.fit(X_train, Y_train)\n",
    "# DT_classifier_hand_write.print_tree()\n",
    "Y_pred = DT_classifier_hand_write.predict(X_test)\n",
    "hand_write_accuracy = accuracy_score(Y_test, Y_pred)\n",
    "print('Accuracy Score: ', hand_write_accuracy)"
   ],
   "metadata": {
    "collapsed": false
   }
  },
  {
   "cell_type": "markdown",
   "metadata": {},
   "source": [
    "### Q1.2 Decision Tree using Sklearn Library (10 points)"
   ]
  },
  {
   "cell_type": "markdown",
   "metadata": {},
   "source": [
    "Use the Decision Tree Classifier from the Sklearn Library and use gini index as a splitting measure. Use the data.csv dataset.\n",
    "Calculate accuracy for this model. \n",
    "Print the Decision tree and compare the Decision Trees generated from your code and Sklearn."
   ]
  },
  {
   "cell_type": "code",
   "execution_count": 586,
   "outputs": [
    {
     "name": "stdout",
     "output_type": "stream",
     "text": [
      "Accuracy Score of built in classifier:  0.9777777777777777\n",
      "Accuracy Score of hand write classifier:  0.9333333333333333\n"
     ]
    }
   ],
   "source": [
    "from sklearn.tree import DecisionTreeClassifier\n",
    "\n",
    "\n",
    "DT_classifier_built_in = DecisionTreeClassifier(max_depth = 10, min_samples_split = 5, random_state = 88)\n",
    "DT_classifier_built_in.fit(X_train, Y_train)\n",
    "Y_pred = DT_classifier_built_in.predict(X_test)\n",
    "print('Accuracy Score of built in classifier: ', accuracy_score(Y_test, Y_pred))\n",
    "print('Accuracy Score of hand write classifier: ', hand_write_accuracy)"
   ],
   "metadata": {
    "collapsed": false
   }
  },
  {
   "cell_type": "markdown",
   "metadata": {
    "id": "IEBH56pukq_H"
   },
   "source": [
    "### Q2 Linear Regression (40 points)\n",
    "\n",
    "Linear regression attempts to model the relationship between two variables by fitting a linear equation to observed data. One variable is considered to be an explanatory variable, and the other is considered to be a dependent variable. \n",
    "<br>\n"
   ]
  },
  {
   "cell_type": "markdown",
   "metadata": {
    "id": "3FL1tuQEkq_H"
   },
   "source": [
    "## Gradient descent algorithm \n",
    "\\begin{equation}\n",
    "\\theta^{+} = \\theta^{-} + \\frac{\\alpha}{m} (y_{i} - h(x_{i}) )\\bar{x}\n",
    "\\end{equation}\n",
    "\n",
    "This minimizes the following cost function\n",
    "\n",
    "\\begin{equation}\n",
    "J(x, \\theta, y) = \\frac{1}{2m}\\sum_{i=1}^{m}(h(x_i) - y_i)^2\n",
    "\\end{equation}\n",
    "\n",
    "where\n",
    "\\begin{equation}\n",
    "h(x_i) = \\theta^T \\bar{x}\n",
    "\\end{equation}"
   ]
  },
  {
   "cell_type": "code",
   "execution_count": 587,
   "metadata": {
    "id": "cOem1EjQkq_H"
   },
   "outputs": [],
   "source": [
    "from matplotlib import pyplot as plt\n",
    "\n",
    "# Do not change the code in this cell\n",
    "true_slope = 15\n",
    "true_intercept = 2.4\n",
    "input_var = np.arange(0.0,100.0)\n",
    "output_var = true_slope * input_var + true_intercept + 300.0 * np.random.rand(len(input_var))"
   ]
  },
  {
   "cell_type": "code",
   "execution_count": 588,
   "metadata": {
    "colab": {
     "base_uri": "https://localhost:8080/",
     "height": 17
    },
    "executionInfo": {
     "elapsed": 147,
     "status": "ok",
     "timestamp": 1630902228487,
     "user": {
      "displayName": "Praguna Singh",
      "photoUrl": "https://lh3.googleusercontent.com/a-/AOh14GheDZgFohozb1D4tdpw7nC3gfdiGtrrgzrUZufzqA=s64",
      "userId": "14769753629771591406"
     },
     "user_tz": 240
    },
    "id": "SNvDqYEykq_H",
    "outputId": "c7f53823-73d9-473f-9e28-944f1f09a415",
    "scrolled": false
   },
   "outputs": [
    {
     "data": {
      "text/plain": "<Figure size 640x480 with 1 Axes>",
      "image/png": "[encoded data removed]"
     },
     "metadata": {},
     "output_type": "display_data"
    }
   ],
   "source": [
    "# Do not change the code in this cell\n",
    "plt.figure()\n",
    "plt.scatter(input_var, output_var)\n",
    "plt.xlabel('x')\n",
    "plt.ylabel('y')\n",
    "plt.show()"
   ]
  },
  {
   "cell_type": "code",
   "execution_count": 589,
   "metadata": {
    "id": "XgNhbpEmkq_I"
   },
   "outputs": [],
   "source": [
    "def compute_cost(ip, op, params):\n",
    "    \"\"\"\n",
    "    Cost function in linear regression where the cost is calculated\n",
    "    ip: input variables\n",
    "    op: output variables\n",
    "    params: corresponding parameters\n",
    "    Returns cost\n",
    "    \"\"\"\n",
    "    num_samples = len(ip)\n",
    "    cost_sum = 0.0\n",
    "    for x,y in zip(ip, op):\n",
    "        y_hat = np.dot(params, np.array([1.0, x]))\n",
    "        cost_sum += (y_hat - y) ** 2\n",
    "    \n",
    "    cost = cost_sum / num_samples\n",
    "    \n",
    "    return cost"
   ]
  },
  {
   "cell_type": "markdown",
   "metadata": {},
   "source": [
    "### Q2.1 Implement Linear Regression using Batch Gradient Descent from scratch.  (15 points)"
   ]
  },
  {
   "cell_type": "markdown",
   "metadata": {
    "id": "7Ao7aYu9kq_I"
   },
   "source": [
    "\n",
    "### Batch gradient descent\n",
    "Algorithm can be given as follows:\n",
    "\n",
    "```for j in 0 -> max_iteration: \n",
    "    for i in 0 -> m: \n",
    "        theta += (alpha / m) * (y[i] - h(x[i])) * x_bar\n",
    "```"
   ]
  },
  {
   "cell_type": "code",
   "execution_count": 590,
   "metadata": {
    "id": "f0z876gDkq_I"
   },
   "outputs": [],
   "source": [
    "def linear_regression_using_batch_gradient_descent(ip, op, params, alpha, max_iter):\n",
    "    \"\"\"\n",
    "    Compute the params for linear regression using batch gradient descent\n",
    "    ip: input variables\n",
    "    op: output variables\n",
    "    params: corresponding parameters\n",
    "    alpha: learning rate\n",
    "    max_iter: maximum number of iterations\n",
    "    Returns parameters, cost, params_store\n",
    "    \"\"\" \n",
    "    # initialize iteration, number of samples, cost and parameter array\n",
    "    iteration = 0\n",
    "    num_samples = len(ip)\n",
    "    cost = np.zeros(max_iter)\n",
    "    params_store = np.zeros([2, max_iter])\n",
    "    \n",
    "    # Compute the cost and store the params for the corresponding cost\n",
    "    while iteration < max_iter:\n",
    "        cost[iteration] = compute_cost(ip, op, params)\n",
    "        params_store[:, iteration] = params\n",
    "        \n",
    "        print('--------------------------')\n",
    "        print(f'iteration: {iteration}')\n",
    "        print(f'cost: {cost[iteration]}')\n",
    "\n",
    "        if cost[iteration] <= 1.5:\n",
    "            return params, cost, params_store\n",
    "\n",
    "        gradient = 0\n",
    "        # Apply batch gradient descent\n",
    "        # Update the weights by average of the gradients in each iteration\n",
    "        for x, y in zip(ip, op):\n",
    "            gradient += (y - np.dot(params, np.array([1.0, x]))) * np.array([1.0, x])\n",
    "        params += alpha / num_samples * gradient / num_samples\n",
    "\n",
    "        iteration += 1\n",
    "    \n",
    "    return params, cost, params_store"
   ]
  },
  {
   "cell_type": "code",
   "execution_count": 591,
   "metadata": {
    "id": "qbjhyZ71kq_I"
   },
   "outputs": [
    {
     "name": "stdout",
     "output_type": "stream",
     "text": [
      "--------------------------\n",
      "iteration: 0\n",
      "cost: 14015511.585235298\n",
      "--------------------------\n",
      "iteration: 1\n",
      "cost: 12820901.826820722\n",
      "--------------------------\n",
      "iteration: 2\n",
      "cost: 11728186.039108722\n",
      "--------------------------\n",
      "iteration: 3\n",
      "cost: 10728673.198647998\n",
      "--------------------------\n",
      "iteration: 4\n",
      "cost: 9814413.580889534\n",
      "--------------------------\n",
      "iteration: 5\n",
      "cost: 8978135.531262446\n",
      "--------------------------\n",
      "iteration: 6\n",
      "cost: 8213187.6293468075\n",
      "--------------------------\n",
      "iteration: 7\n",
      "cost: 7513485.786140387\n",
      "--------------------------\n",
      "iteration: 8\n",
      "cost: 6873464.853652226\n",
      "--------------------------\n",
      "iteration: 9\n",
      "cost: 6288034.361945088\n",
      "--------------------------\n",
      "iteration: 10\n",
      "cost: 5752538.031576993\n",
      "--------------------------\n",
      "iteration: 11\n",
      "cost: 5262716.739419977\n",
      "--------------------------\n",
      "iteration: 12\n",
      "cost: 4814674.643301116\n",
      "--------------------------\n",
      "iteration: 13\n",
      "cost: 4404848.19603464\n",
      "--------------------------\n",
      "iteration: 14\n",
      "cost: 4029977.802395314\n",
      "--------------------------\n",
      "iteration: 15\n",
      "cost: 3687081.893603917\n",
      "--------------------------\n",
      "iteration: 16\n",
      "cost: 3373433.2131236754\n",
      "--------------------------\n",
      "iteration: 17\n",
      "cost: 3086537.125154416\n",
      "--------------------------\n",
      "iteration: 18\n",
      "cost: 2824111.7732988223\n",
      "--------------------------\n",
      "iteration: 19\n",
      "cost: 2584069.9315908505\n",
      "--------------------------\n",
      "iteration: 20\n",
      "cost: 2364502.403536603\n",
      "--------------------------\n",
      "iteration: 21\n",
      "cost: 2163662.8371303\n",
      "--------------------------\n",
      "iteration: 22\n",
      "cost: 1979953.835070081\n",
      "--------------------------\n",
      "iteration: 23\n",
      "cost: 1811914.2496998217\n",
      "--------------------------\n",
      "iteration: 24\n",
      "cost: 1658207.5616260702\n",
      "--------------------------\n",
      "iteration: 25\n",
      "cost: 1517611.2495782427\n",
      "--------------------------\n",
      "iteration: 26\n",
      "cost: 1389007.0669642186\n",
      "--------------------------\n",
      "iteration: 27\n",
      "cost: 1271372.1477849535\n",
      "--------------------------\n",
      "iteration: 28\n",
      "cost: 1163770.8711681126\n",
      "--------------------------\n",
      "iteration: 29\n",
      "cost: 1065347.419814502\n",
      "--------------------------\n",
      "iteration: 30\n",
      "cost: 975318.9731701292\n",
      "--------------------------\n",
      "iteration: 31\n",
      "cost: 892969.4811851453\n",
      "--------------------------\n",
      "iteration: 32\n",
      "cost: 817643.9691386224\n",
      "--------------------------\n",
      "iteration: 33\n",
      "cost: 748743.328232023\n",
      "--------------------------\n",
      "iteration: 34\n",
      "cost: 685719.5505178431\n",
      "--------------------------\n",
      "iteration: 35\n",
      "cost: 628071.3702639478\n",
      "--------------------------\n",
      "iteration: 36\n",
      "cost: 575340.2770867583\n",
      "--------------------------\n",
      "iteration: 37\n",
      "cost: 527106.8691433582\n",
      "--------------------------\n",
      "iteration: 38\n",
      "cost: 482987.51737725845\n",
      "--------------------------\n",
      "iteration: 39\n",
      "cost: 442631.3142865794\n",
      "--------------------------\n",
      "iteration: 40\n",
      "cost: 405717.28294636233\n",
      "--------------------------\n",
      "iteration: 41\n",
      "cost: 371951.8240867061\n",
      "--------------------------\n",
      "iteration: 42\n",
      "cost: 341066.3809217965\n",
      "--------------------------\n",
      "iteration: 43\n",
      "cost: 312815.3031568263\n",
      "--------------------------\n",
      "iteration: 44\n",
      "cost: 286973.89318396494\n",
      "--------------------------\n",
      "iteration: 45\n",
      "cost: 263336.61892760836\n",
      "--------------------------\n",
      "iteration: 46\n",
      "cost: 241715.47912459122\n",
      "--------------------------\n",
      "iteration: 47\n",
      "cost: 221938.5080374599\n",
      "--------------------------\n",
      "iteration: 48\n",
      "cost: 203848.40770789114\n",
      "--------------------------\n",
      "iteration: 49\n",
      "cost: 187301.2968717514\n",
      "--------------------------\n",
      "iteration: 50\n",
      "cost: 172165.56658516463\n",
      "--------------------------\n",
      "iteration: 51\n",
      "cost: 158320.83345969958\n",
      "--------------------------\n",
      "iteration: 52\n",
      "cost: 145656.98218112803\n",
      "--------------------------\n",
      "iteration: 53\n",
      "cost: 134073.2896963312\n",
      "--------------------------\n",
      "iteration: 54\n",
      "cost: 123477.62410248785\n",
      "--------------------------\n",
      "iteration: 55\n",
      "cost: 113785.7118668309\n",
      "--------------------------\n",
      "iteration: 56\n",
      "cost: 104920.46754872988\n",
      "--------------------------\n",
      "iteration: 57\n",
      "cost: 96811.38069297951\n",
      "--------------------------\n",
      "iteration: 58\n",
      "cost: 89393.95501788758\n",
      "--------------------------\n",
      "iteration: 59\n",
      "cost: 82609.19543769001\n",
      "--------------------------\n",
      "iteration: 60\n",
      "cost: 76403.1388392737\n",
      "--------------------------\n",
      "iteration: 61\n",
      "cost: 70726.4248811943\n",
      "--------------------------\n",
      "iteration: 62\n",
      "cost: 65533.90340129596\n",
      "--------------------------\n",
      "iteration: 63\n",
      "cost: 60784.27531040968\n",
      "--------------------------\n",
      "iteration: 64\n",
      "cost: 56439.76411594458\n",
      "--------------------------\n",
      "iteration: 65\n",
      "cost: 52465.81546279966\n",
      "--------------------------\n",
      "iteration: 66\n",
      "cost: 48830.82230186714\n",
      "--------------------------\n",
      "iteration: 67\n",
      "cost: 45505.873500226764\n",
      "--------------------------\n",
      "iteration: 68\n",
      "cost: 42464.52389357718\n",
      "--------------------------\n",
      "iteration: 69\n",
      "cost: 39682.58395199396\n",
      "--------------------------\n",
      "iteration: 70\n",
      "cost: 37137.92738609982\n",
      "--------------------------\n",
      "iteration: 71\n",
      "cost: 34810.31516342316\n",
      "--------------------------\n",
      "iteration: 72\n",
      "cost: 32681.234535242285\n",
      "--------------------------\n",
      "iteration: 73\n",
      "cost: 30733.751793599055\n",
      "--------------------------\n",
      "iteration: 74\n",
      "cost: 28952.377587369894\n",
      "--------------------------\n",
      "iteration: 75\n",
      "cost: 27322.94372617231\n",
      "--------------------------\n",
      "iteration: 76\n",
      "cost: 25832.49049225508\n",
      "--------------------------\n",
      "iteration: 77\n",
      "cost: 24469.16356409528\n",
      "--------------------------\n",
      "iteration: 78\n",
      "cost: 23222.119731874085\n",
      "--------------------------\n",
      "iteration: 79\n",
      "cost: 22081.440654929913\n",
      "--------------------------\n",
      "iteration: 80\n",
      "cost: 21038.053975250656\n",
      "--------------------------\n",
      "iteration: 81\n",
      "cost: 20083.661159572606\n",
      "--------------------------\n",
      "iteration: 82\n",
      "cost: 19210.671496171435\n",
      "--------------------------\n",
      "iteration: 83\n",
      "cost: 18412.14172138242\n",
      "--------------------------\n",
      "iteration: 84\n",
      "cost: 17681.720795662863\n",
      "--------------------------\n",
      "iteration: 85\n",
      "cost: 17013.599389967872\n",
      "--------------------------\n",
      "iteration: 86\n",
      "cost: 16402.463680674886\n",
      "--------------------------\n",
      "iteration: 87\n",
      "cost: 15843.453085559133\n",
      "--------------------------\n",
      "iteration: 88\n",
      "cost: 15332.121604670032\n",
      "--------------------------\n",
      "iteration: 89\n",
      "cost: 14864.402458628887\n",
      "--------------------------\n",
      "iteration: 90\n",
      "cost: 14436.575743094927\n",
      "--------------------------\n",
      "iteration: 91\n",
      "cost: 14045.23884213642\n",
      "--------------------------\n",
      "iteration: 92\n",
      "cost: 13687.279365186903\n",
      "--------------------------\n",
      "iteration: 93\n",
      "cost: 13359.850392337461\n",
      "--------------------------\n",
      "iteration: 94\n",
      "cost: 13060.347831076298\n",
      "--------------------------\n",
      "iteration: 95\n",
      "cost: 12786.389704380254\n",
      "--------------------------\n",
      "iteration: 96\n",
      "cost: 12535.797205423853\n",
      "--------------------------\n",
      "iteration: 97\n",
      "cost: 12306.577368222652\n",
      "--------------------------\n",
      "iteration: 98\n",
      "cost: 12096.907216380361\n",
      "--------------------------\n",
      "iteration: 99\n",
      "cost: 11905.119263864788\n"
     ]
    }
   ],
   "source": [
    "# Do not change the code in this cell\n",
    "# Training the model\n",
    "from sklearn.model_selection import train_test_split\n",
    "x_train, x_test, y_train, y_test = train_test_split(input_var, output_var, test_size=0.20)\n",
    "\n",
    "params_0 = np.array([20.0, 80.0])\n",
    "\n",
    "alpha_batch = 1e-3\n",
    "max_iter = 100\n",
    "params_hat_batch, cost_batch, params_store_batch =\\\n",
    "    linear_regression_using_batch_gradient_descent(x_train, y_train, params_0, alpha_batch, max_iter)"
   ]
  },
  {
   "cell_type": "markdown",
   "metadata": {},
   "source": [
    "### Q2.2 Implement Stochastic Gradient Descent from scratch. (15 points)"
   ]
  },
  {
   "cell_type": "markdown",
   "metadata": {
    "id": "lEIJL-WGkq_I"
   },
   "source": [
    "### Stochastic Gradient Descent\n",
    "Algorithm can be given as follows:\n",
    "```shuffle(x, y)\n",
    "for i in 0 -> m:\n",
    "    theta += (alpha / m) * (y[i] - h(x[i])) * x_bar  \n",
    "```"
   ]
  },
  {
   "cell_type": "code",
   "execution_count": 592,
   "metadata": {
    "id": "Gx9LN0wQkq_I"
   },
   "outputs": [],
   "source": [
    "def lin_reg_stoch_gradient_descent(ip, op, params, alpha):\n",
    "    \"\"\"\n",
    "    Compute the params for linear regression using stochastic gradient descent\n",
    "    ip: input variables\n",
    "    op: output variables\n",
    "    params: corresponding parameters\n",
    "    alpha: learning rate\n",
    "    Returns parameters, cost, params_store\n",
    "    \"\"\"\n",
    "    \n",
    "    # initialize iteration, number of samples, cost and parameter array\n",
    "    num_samples = len(ip)\n",
    "    cost = np.zeros(num_samples)\n",
    "    params_store = np.zeros([2, num_samples])\n",
    "    \n",
    "    i = 0\n",
    "    # Compute the cost and store the params for the corresponding cost\n",
    "    for x,y in zip(ip, op):\n",
    "        cost[i] = compute_cost(input_var, output_var, params)\n",
    "        params_store[:, i] = params\n",
    "        \n",
    "        print('--------------------------')\n",
    "        print(f'iteration: {i}')\n",
    "        print(f'cost: {cost[i]}')\n",
    "        \n",
    "        # Apply stochastic gradient descent\n",
    "        params += alpha / num_samples * (np.array([1.0, x]) * (y - np.dot(params, np.array([1.0, x]))))\n",
    "        i += 1\n",
    "\n",
    "            \n",
    "    return params, cost, params_store"
   ]
  },
  {
   "cell_type": "code",
   "execution_count": 593,
   "metadata": {
    "id": "HivE1gVkkq_J"
   },
   "outputs": [
    {
     "name": "stdout",
     "output_type": "stream",
     "text": [
      "--------------------------\n",
      "iteration: 0\n",
      "cost: 13131988.621042896\n",
      "--------------------------\n",
      "iteration: 1\n",
      "cost: 12547491.697257303\n",
      "--------------------------\n",
      "iteration: 2\n",
      "cost: 10353247.893002687\n",
      "--------------------------\n",
      "iteration: 3\n",
      "cost: 8105769.135972198\n",
      "--------------------------\n",
      "iteration: 4\n",
      "cost: 6538848.113815633\n",
      "--------------------------\n",
      "iteration: 5\n",
      "cost: 5188597.478184236\n",
      "--------------------------\n",
      "iteration: 6\n",
      "cost: 4470293.145747608\n",
      "--------------------------\n",
      "iteration: 7\n",
      "cost: 4455376.719524371\n",
      "--------------------------\n",
      "iteration: 8\n",
      "cost: 3885522.379216453\n",
      "--------------------------\n",
      "iteration: 9\n",
      "cost: 3150354.345741585\n",
      "--------------------------\n",
      "iteration: 10\n",
      "cost: 3130720.030553593\n",
      "--------------------------\n",
      "iteration: 11\n",
      "cost: 2834575.2725871755\n",
      "--------------------------\n",
      "iteration: 12\n",
      "cost: 2806077.4360254584\n",
      "--------------------------\n",
      "iteration: 13\n",
      "cost: 2307610.5399291716\n",
      "--------------------------\n",
      "iteration: 14\n",
      "cost: 2308284.363712162\n",
      "--------------------------\n",
      "iteration: 15\n",
      "cost: 2225593.657415124\n",
      "--------------------------\n",
      "iteration: 16\n",
      "cost: 2004886.6011550513\n",
      "--------------------------\n",
      "iteration: 17\n",
      "cost: 1761677.8557552847\n",
      "--------------------------\n",
      "iteration: 18\n",
      "cost: 1629620.3593712952\n",
      "--------------------------\n",
      "iteration: 19\n",
      "cost: 1449832.4104348868\n",
      "--------------------------\n",
      "iteration: 20\n",
      "cost: 1436059.6404653727\n",
      "--------------------------\n",
      "iteration: 21\n",
      "cost: 1435164.2303369548\n",
      "--------------------------\n",
      "iteration: 22\n",
      "cost: 1333676.1428869804\n",
      "--------------------------\n",
      "iteration: 23\n",
      "cost: 1319131.8816251596\n",
      "--------------------------\n",
      "iteration: 24\n",
      "cost: 1062564.1963830255\n",
      "--------------------------\n",
      "iteration: 25\n",
      "cost: 1059853.557204366\n",
      "--------------------------\n",
      "iteration: 26\n",
      "cost: 933247.798333729\n",
      "--------------------------\n",
      "iteration: 27\n",
      "cost: 801655.7980283442\n",
      "--------------------------\n",
      "iteration: 28\n",
      "cost: 717232.1813910805\n",
      "--------------------------\n",
      "iteration: 29\n",
      "cost: 569062.4850683461\n",
      "--------------------------\n",
      "iteration: 30\n",
      "cost: 478554.377709448\n",
      "--------------------------\n",
      "iteration: 31\n",
      "cost: 465901.21363456344\n",
      "--------------------------\n",
      "iteration: 32\n",
      "cost: 414357.81600356865\n",
      "--------------------------\n",
      "iteration: 33\n",
      "cost: 413955.0398883205\n",
      "--------------------------\n",
      "iteration: 34\n",
      "cost: 346528.125166764\n",
      "--------------------------\n",
      "iteration: 35\n",
      "cost: 314969.8423727502\n",
      "--------------------------\n",
      "iteration: 36\n",
      "cost: 298617.0201362606\n",
      "--------------------------\n",
      "iteration: 37\n",
      "cost: 281937.4480541741\n",
      "--------------------------\n",
      "iteration: 38\n",
      "cost: 277622.75136523077\n",
      "--------------------------\n",
      "iteration: 39\n",
      "cost: 267575.6462396957\n",
      "--------------------------\n",
      "iteration: 40\n",
      "cost: 206665.48361001798\n",
      "--------------------------\n",
      "iteration: 41\n",
      "cost: 201111.62278990276\n",
      "--------------------------\n",
      "iteration: 42\n",
      "cost: 195907.53789456806\n",
      "--------------------------\n",
      "iteration: 43\n",
      "cost: 145257.94093564234\n",
      "--------------------------\n",
      "iteration: 44\n",
      "cost: 132047.1943859719\n",
      "--------------------------\n",
      "iteration: 45\n",
      "cost: 115538.64365044051\n",
      "--------------------------\n",
      "iteration: 46\n",
      "cost: 112861.33496462453\n",
      "--------------------------\n",
      "iteration: 47\n",
      "cost: 98974.99596376179\n",
      "--------------------------\n",
      "iteration: 48\n",
      "cost: 72533.27779726422\n",
      "--------------------------\n",
      "iteration: 49\n",
      "cost: 68407.07629861898\n",
      "--------------------------\n",
      "iteration: 50\n",
      "cost: 65877.355065952\n",
      "--------------------------\n",
      "iteration: 51\n",
      "cost: 59496.73961711051\n",
      "--------------------------\n",
      "iteration: 52\n",
      "cost: 57192.460462774485\n",
      "--------------------------\n",
      "iteration: 53\n",
      "cost: 57810.936367798706\n",
      "--------------------------\n",
      "iteration: 54\n",
      "cost: 55797.80081538564\n",
      "--------------------------\n",
      "iteration: 55\n",
      "cost: 55840.165374721735\n",
      "--------------------------\n",
      "iteration: 56\n",
      "cost: 50467.47806922599\n",
      "--------------------------\n",
      "iteration: 57\n",
      "cost: 50613.19347808504\n",
      "--------------------------\n",
      "iteration: 58\n",
      "cost: 45873.51450924123\n",
      "--------------------------\n",
      "iteration: 59\n",
      "cost: 41732.92474417125\n",
      "--------------------------\n",
      "iteration: 60\n",
      "cost: 41732.884263383334\n",
      "--------------------------\n",
      "iteration: 61\n",
      "cost: 41760.123791438244\n",
      "--------------------------\n",
      "iteration: 62\n",
      "cost: 37251.58574761763\n",
      "--------------------------\n",
      "iteration: 63\n",
      "cost: 35579.0460473214\n",
      "--------------------------\n",
      "iteration: 64\n",
      "cost: 35198.380111582526\n",
      "--------------------------\n",
      "iteration: 65\n",
      "cost: 35377.00058049199\n",
      "--------------------------\n",
      "iteration: 66\n",
      "cost: 35645.02218576384\n",
      "--------------------------\n",
      "iteration: 67\n",
      "cost: 34809.612075197525\n",
      "--------------------------\n",
      "iteration: 68\n",
      "cost: 33978.56580696322\n",
      "--------------------------\n",
      "iteration: 69\n",
      "cost: 34007.36016739644\n",
      "--------------------------\n",
      "iteration: 70\n",
      "cost: 31946.398119910526\n",
      "--------------------------\n",
      "iteration: 71\n",
      "cost: 25134.68809587538\n",
      "--------------------------\n",
      "iteration: 72\n",
      "cost: 25431.69473725636\n",
      "--------------------------\n",
      "iteration: 73\n",
      "cost: 25655.3796416312\n",
      "--------------------------\n",
      "iteration: 74\n",
      "cost: 25014.670647919673\n",
      "--------------------------\n",
      "iteration: 75\n",
      "cost: 23206.796624414386\n",
      "--------------------------\n",
      "iteration: 76\n",
      "cost: 21548.525208916482\n",
      "--------------------------\n",
      "iteration: 77\n",
      "cost: 21674.173223395162\n",
      "--------------------------\n",
      "iteration: 78\n",
      "cost: 21792.799995745263\n",
      "--------------------------\n",
      "iteration: 79\n",
      "cost: 21891.691192580507\n"
     ]
    }
   ],
   "source": [
    "# Do not change the code in this cell\n",
    "alpha = 1e-3\n",
    "params_0 = np.array([20.0, 80.0])\n",
    "params_hat, cost, params_store =\\\n",
    "lin_reg_stoch_gradient_descent(x_train, y_train, params_0, alpha)"
   ]
  },
  {
   "cell_type": "markdown",
   "metadata": {},
   "source": [
    "### Q2.3 Calculate Root Mean Square error in batch gradient descent algorithm and stochastic gradient descent algorithm (5 points)"
   ]
  },
  {
   "cell_type": "code",
   "execution_count": 594,
   "metadata": {},
   "outputs": [
    {
     "name": "stdout",
     "output_type": "stream",
     "text": [
      "RMSE of BGD:  109.11058273084599\n",
      "RMSE of SGD:  154.08956920897128\n"
     ]
    }
   ],
   "source": [
    "# Calculate Root Mean Square error in batch gradient descent algorithm and stochastic gradient descent algorithm\n",
    "batch_ss = 0\n",
    "for x, y in zip(x_train, y_train):\n",
    "    y_pred = np.dot(params_store_batch[:, -1], np.array([1.0, x]))\n",
    "    batch_ss += (y_pred - y) ** 2\n",
    "RMSE_batch = (batch_ss / len(x_train)) ** 0.5\n",
    "print('RMSE of BGD: ', RMSE_batch)\n",
    "stochastic_ss = 0\n",
    "for x, y in zip(x_train, y_train):\n",
    "    y_pred = np.dot(params_store[:, -1], np.array([1.0, x]))\n",
    "    stochastic_ss += (y_pred - y) ** 2\n",
    "RMSE_stochastic = (stochastic_ss / len(x_train)) ** 0.5\n",
    "print('RMSE of SGD: ', RMSE_stochastic)"
   ]
  },
  {
   "cell_type": "code",
   "execution_count": 595,
   "metadata": {
    "colab": {
     "base_uri": "https://localhost:8080/",
     "height": 51
    },
    "executionInfo": {
     "elapsed": 152,
     "status": "ok",
     "timestamp": 1630902274461,
     "user": {
      "displayName": "Praguna Singh",
      "photoUrl": "https://lh3.googleusercontent.com/a-/AOh14GheDZgFohozb1D4tdpw7nC3gfdiGtrrgzrUZufzqA=s64",
      "userId": "14769753629771591406"
     },
     "user_tz": 240
    },
    "id": "930loAL6kq_L",
    "outputId": "e807576e-9852-4857-9a29-d367f2e0b26b"
   },
   "outputs": [
    {
     "data": {
      "text/plain": "<Figure size 640x480 with 1 Axes>",
      "image/png": "[encoded data removed]"
     },
     "metadata": {},
     "output_type": "display_data"
    },
    {
     "name": "stdout",
     "output_type": "stream",
     "text": [
      "min cost with BGD: 11905.119263864788\n",
      "min cost with SGD: 21548.525208916482\n"
     ]
    }
   ],
   "source": [
    "# Do not change the code in this cell\n",
    "plt.figure()\n",
    "plt.plot(np.arange(max_iter), cost_batch, 'r', label='batch')\n",
    "plt.plot(np.arange(len(cost)), cost, 'g', label='stochastic')\n",
    "plt.xlabel('iteration')\n",
    "plt.ylabel('normalized cost')\n",
    "plt.legend()\n",
    "plt.show()\n",
    "print(f'min cost with BGD: {np.min(cost_batch)}')\n",
    "print(f'min cost with SGD: {np.min(cost)}')"
   ]
  },
  {
   "cell_type": "markdown",
   "metadata": {
    "id": "Lrpju6Kwkq_N"
   },
   "source": [
    "### Q2.4 Which linear regression model do you think works best for this data? Explain in brief. (5 points)"
   ]
  },
  {
   "cell_type": "markdown",
   "source": [
    "Batch Gradient Descent performs better on the given dataset, which has a lower root mean squared error and cost.\n",
    "Batch Gradient Descent is great for convex or relatively smooth error manifolds. In this case, we move somewhat directly towards an optimum solution.\n",
    "The graph of cost vs epochs is also quite smooth because we are averaging over all the gradients of training data for a single step. The cost keeps on decreasing over the epochs.\n",
    "Also, the batch gradient descent are its computational efficiency, it produces a stable error gradient and a stable convergence, which typically reaches the optimal or convergence faster."
   ],
   "metadata": {
    "collapsed": false
   }
  },
  {
   "cell_type": "markdown",
   "metadata": {
    "id": "wgbTux39kq_N"
   },
   "source": []
  },
  {
   "cell_type": "markdown",
   "metadata": {
    "id": "_p02LYZrkq_N"
   },
   "source": [
    "### Q3. Linear Regression Analytical Problem (10 points)\n",
    "Consider the following training data.\n",
    "\n",
    "| X1 | X2 | Y |\n",
    "| -- | -- | -- |\n",
    "| 0 | 0 | 0 |\n",
    "| 0 | 1 | 1.5 |\n",
    "| 1 | 0 | 2 |\n",
    "| 1 | 1 | 2.5 |\n",
    "Suppose the data comes from a model y = $θ_{0}$ +$θ_{1}$x1 +$θ_{2}$x2 for unknown constants $θ_{0}$,$θ_{1}$,$θ_{2}$. Use least squares linear regression to find an estimate of $θ_{0}$,$θ_{1}$,$θ_{2}$."
   ]
  },
  {
   "cell_type": "markdown",
   "source": [
    "y_hat = h(x) = w0x0 + w1x1 + w2x2\n",
    "\n",
    "initialize w0 = 0, w1 = 0, w2 = 0\n",
    "learning rate = 0.1\n",
    "stop when SSE < 1.5"
   ],
   "metadata": {
    "collapsed": false
   }
  },
  {
   "cell_type": "markdown",
   "source": [
    "Iteration 1:"
   ],
   "metadata": {
    "collapsed": false
   }
  },
  {
   "cell_type": "code",
   "execution_count": 596,
   "outputs": [
    {
     "name": "stdout",
     "output_type": "stream",
     "text": [
      "SSE:  12.5\n",
      "SSE > 1.2\n"
     ]
    }
   ],
   "source": [
    "y_hat0 = 0 + 0 * 0 + 0 * 0\n",
    "y_hat1 = 0 + 0 * 0 + 0 * 1\n",
    "y_hat2 = 0 + 0 * 1 + 0 * 0\n",
    "y_hat3 = 0 + 0 * 1 + 0 * 1\n",
    "SSE = (y_hat0 - 0)**2 + (y_hat1 - 1.5)**2 + (y_hat2 - 2)**2 + (y_hat3 - 2.5)**2\n",
    "print('SSE: ', SSE)\n",
    "print('SSE > 1.2') if SSE > 1.2 else print('Stop')"
   ],
   "metadata": {
    "collapsed": false
   }
  },
  {
   "cell_type": "code",
   "execution_count": 597,
   "outputs": [
    {
     "name": "stdout",
     "output_type": "stream",
     "text": [
      "w0 = 1.15, w1 = 1.1125, w2 = 1.1\n"
     ]
    }
   ],
   "source": [
    "s0 = (y_hat0 - 0) + (y_hat1 - 1.5) + (y_hat2 - 2) + (y_hat3 - 2.5)\n",
    "s1 = (y_hat0 - 0) * 0 + (y_hat1 - 1.5) * 0 + (y_hat2 - 2) * 1 + (y_hat3 - 2.5) * 1\n",
    "s2 = (y_hat0 - 0) * 0 + (y_hat1 - 1.5) * 1 + (y_hat2 - 2) * 0 + (y_hat3 - 2.5) * 1\n",
    "w0 = 1 - 0.1 / 4 * s0\n",
    "w1 = 1 - 0.1 / 4 * s1\n",
    "w2 = 1 - 0.1 / 4 * s2\n",
    "print(f'w0 = {w0}, w1 = {w1}, w2 = {w2}')"
   ],
   "metadata": {
    "collapsed": false
   }
  },
  {
   "cell_type": "markdown",
   "source": [
    "Iteration 2:"
   ],
   "metadata": {
    "collapsed": false
   }
  },
  {
   "cell_type": "code",
   "execution_count": 598,
   "outputs": [
    {
     "name": "stdout",
     "output_type": "stream",
     "text": [
      "SSE:  2.6978125000000004\n",
      "SSE > 1.2\n"
     ]
    }
   ],
   "source": [
    "y_hat0 = w0 + w1 * 0 + w2 * 0\n",
    "y_hat1 = w0 + w1 * 0 + w2 * 1\n",
    "y_hat2 = w0 + w1 * 1 + w2 * 0\n",
    "y_hat3 = w0 + w1 * 1 + w2 * 1\n",
    "SSE = (y_hat0 - 0)**2 + (y_hat1 - 1.5)**2 + (y_hat2 - 2)**2 + (y_hat3 - 2.5)**2\n",
    "print('SSE: ', SSE)\n",
    "print('SSE > 1.2') if SSE > 1.2 else print('Stop')"
   ],
   "metadata": {
    "collapsed": false
   }
  },
  {
   "cell_type": "code",
   "execution_count": 599,
   "outputs": [
    {
     "name": "stdout",
     "output_type": "stream",
     "text": [
      "w0 = 0.924375, w1 = 0.971875, w2 = 0.9596875\n"
     ]
    }
   ],
   "source": [
    "s0 = (y_hat0 - 0) + (y_hat1 - 1.5) + (y_hat2 - 2) + (y_hat3 - 2.5)\n",
    "s1 = (y_hat0 - 0) * 0 + (y_hat1 - 1.5) * 0 + (y_hat2 - 2) * 1 + (y_hat3 - 2.5) * 1\n",
    "s2 = (y_hat0 - 0) * 0 + (y_hat1 - 1.5) * 1 + (y_hat2 - 2) * 0 + (y_hat3 - 2.5) * 1\n",
    "w0 = 1 - 0.1 / 4 * s0\n",
    "w1 = 1 - 0.1 / 4 * s1\n",
    "w2 = 1 - 0.1 / 4 * s2\n",
    "print(f'w0 = {w0}, w1 = {w1}, w2 = {w2}')"
   ],
   "metadata": {
    "collapsed": false
   }
  },
  {
   "cell_type": "markdown",
   "source": [
    "Iteration 3:"
   ],
   "metadata": {
    "collapsed": false
   }
  },
  {
   "cell_type": "code",
   "execution_count": 600,
   "outputs": [
    {
     "name": "stdout",
     "output_type": "stream",
     "text": [
      "SSE:  1.1394287109374999\n",
      "Converged: y_hat = 0.924375x0 + 0.971875x1 + 0.9596875x2\n"
     ]
    }
   ],
   "source": [
    "y_hat0 = w0 + w1 * 0 + w2 * 0\n",
    "y_hat1 = w0 + w1 * 0 + w2 * 1\n",
    "y_hat2 = w0 + w1 * 1 + w2 * 0\n",
    "y_hat3 = w0 + w1 * 1 + w2 * 1\n",
    "SSE = (y_hat0 - 0)**2 + (y_hat1 - 1.5)**2 + (y_hat2 - 2)**2 + (y_hat3 - 2.5)**2\n",
    "print('SSE: ', SSE)\n",
    "print('SSE > 1.2') if SSE > 1.2 else print(f'Converged: y_hat = {w0}x0 + {w1}x1 + {w2}x2')"
   ],
   "metadata": {
    "collapsed": false
   }
  }
 ],
 "metadata": {
  "colab": {
   "collapsed_sections": [],
   "name": "assignment-1-solution.ipynb",
   "provenance": []
  },
  "kernelspec": {
   "display_name": "Python 3",
   "language": "python",
   "name": "python3"
  },
  "language_info": {
   "codemirror_mode": {
    "name": "ipython",
    "version": 3
   },
   "file_extension": ".py",
   "mimetype": "text/x-python",
   "name": "python",
   "nbconvert_exporter": "python",
   "pygments_lexer": "ipython3",
   "version": "3.8.8"
  }
 },
 "nbformat": 4,
 "nbformat_minor": 1
}
